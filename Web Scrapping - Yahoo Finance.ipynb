{
 "cells": [
  {
   "cell_type": "code",
   "execution_count": 1,
   "id": "25356092",
   "metadata": {},
   "outputs": [],
   "source": [
    "import numpy as np\n",
    "import pandas as pd\n",
    "import matplotlib.pyplot as plt\n",
    "import seaborn as sns\n",
    "%matplotlib inline\n",
    "\n",
    "import requests\n",
    "from bs4 import BeautifulSoup"
   ]
  },
  {
   "cell_type": "code",
   "execution_count": 2,
   "id": "9aff241f",
   "metadata": {},
   "outputs": [],
   "source": [
    "url_source = 'https://finance.yahoo.com/quote/AAPL?p=AAPL'"
   ]
  },
  {
   "cell_type": "code",
   "execution_count": 3,
   "id": "a97189ca",
   "metadata": {},
   "outputs": [
    {
     "name": "stdout",
     "output_type": "stream",
     "text": [
      "200\n"
     ]
    }
   ],
   "source": [
    "response = requests.get(url_source)\n",
    "\n",
    "print(response.status_code)\n",
    "\n",
    "sample_text = response.text\n",
    "\n",
    "# ind_sample = sample_text.index('Previous Close')\n",
    "\n",
    "# # print(sample_text[ind_sample:ind_sample+200])\n",
    "# test = sample_text[ind_sample:].split('</span>')[1]\n",
    "# print(test.split('>')[2])\n"
   ]
  },
  {
   "cell_type": "code",
   "execution_count": 4,
   "id": "0857fabd",
   "metadata": {},
   "outputs": [],
   "source": [
    "soup = BeautifulSoup(sample_text,features='html.parser')"
   ]
  },
  {
   "cell_type": "code",
   "execution_count": 46,
   "id": "8627760d",
   "metadata": {},
   "outputs": [
    {
     "data": {
      "text/plain": [
       "'134.76'"
      ]
     },
     "execution_count": 46,
     "metadata": {},
     "output_type": "execute_result"
    }
   ],
   "source": [
    "red_text = soup.find_all('tr')\n",
    "red_text[0].contents[1].text"
   ]
  },
  {
   "cell_type": "code",
   "execution_count": 57,
   "id": "b02a20ba",
   "metadata": {},
   "outputs": [
    {
     "data": {
      "text/plain": [
       "[<tr class=\"Bxz(bb) Bdbw(1px) Bdbs(s) Bdc($seperatorColor) H(36px)\"><td class=\"C($primaryColor) W(51%)\"><span>Previous Close</span></td><td class=\"Ta(end) Fw(600) Lh(14px)\" data-test=\"PREV_CLOSE-value\">134.76</td></tr>,\n",
       " <tr class=\"Bxz(bb) Bdbw(1px) Bdbs(s) Bdc($seperatorColor) H(36px)\"><td class=\"C($primaryColor) W(51%)\"><span>Open</span></td><td class=\"Ta(end) Fw(600) Lh(14px)\" data-test=\"OPEN-value\">134.83</td></tr>,\n",
       " <tr class=\"Bxz(bb) Bdbw(1px) Bdbs(s) Bdc($seperatorColor) H(36px)\"><td class=\"C($primaryColor) W(51%)\"><span>Bid</span></td><td class=\"Ta(end) Fw(600) Lh(14px)\" data-test=\"BID-value\">136.08 x 800</td></tr>,\n",
       " <tr class=\"Bxz(bb) Bdbw(1px) Bdbs(s) Bdc($seperatorColor) H(36px)\"><td class=\"C($primaryColor) W(51%)\"><span>Ask</span></td><td class=\"Ta(end) Fw(600) Lh(14px)\" data-test=\"ASK-value\">136.09 x 800</td></tr>,\n",
       " <tr class=\"Bxz(bb) Bdbw(1px) Bdbs(s) Bdc($seperatorColor) H(36px)\"><td class=\"C($primaryColor) W(51%)\"><span>Day's Range</span></td><td class=\"Ta(end) Fw(600) Lh(14px)\" data-test=\"DAYS_RANGE-value\">134.15 - 137.29</td></tr>,\n",
       " <tr class=\"Bxz(bb) Bdbw(1px) Bdbs(s) Bdc($seperatorColor) H(36px)\"><td class=\"C($primaryColor) W(51%)\"><span>52 Week Range</span></td><td class=\"Ta(end) Fw(600) Lh(14px)\" data-test=\"FIFTY_TWO_WK_RANGE-value\">124.17 - 179.61</td></tr>,\n",
       " <tr class=\"Bxz(bb) Bdbw(1px) Bdbs(s) Bdc($seperatorColor) H(36px)\"><td class=\"C($primaryColor) W(51%)\"><span>Volume</span></td><td class=\"Ta(end) Fw(600) Lh(14px)\" data-test=\"TD_VOLUME-value\"><fin-streamer active=\"\" data-dfield=\"longFmt\" data-field=\"regularMarketVolume\" data-pricehint=\"2\" data-symbol=\"AAPL\" data-trend=\"none\" value=\"42,853,627\">42,853,627</fin-streamer></td></tr>,\n",
       " <tr class=\"Bxz(bb) Bdbw(1px) Bdbs(s) Bdc($seperatorColor) H(36px) Bdbw(0)!\"><td class=\"C($primaryColor) W(51%)\"><span>Avg. Volume</span></td><td class=\"Ta(end) Fw(600) Lh(14px)\" data-test=\"AVERAGE_VOLUME_3MONTH-value\">82,400,475</td></tr>,\n",
       " <tr class=\"Bxz(bb) Bdbw(1px) Bdbs(s) Bdc($seperatorColor) H(36px)\"><td class=\"C($primaryColor) W(51%)\"><span>Market Cap</span></td><td class=\"Ta(end) Fw(600) Lh(14px)\" data-test=\"MARKET_CAP-value\">2.163T</td></tr>,\n",
       " <tr class=\"Bxz(bb) Bdbw(1px) Bdbs(s) Bdc($seperatorColor) H(36px)\"><td class=\"C($primaryColor) W(51%)\"><span>Beta (5Y Monthly)</span></td><td class=\"Ta(end) Fw(600) Lh(14px)\" data-test=\"BETA_5Y-value\">1.27</td></tr>,\n",
       " <tr class=\"Bxz(bb) Bdbw(1px) Bdbs(s) Bdc($seperatorColor) H(36px)\"><td class=\"C($primaryColor) W(51%)\"><span>PE Ratio (TTM)</span></td><td class=\"Ta(end) Fw(600) Lh(14px)\" data-test=\"PE_RATIO-value\">22.25</td></tr>,\n",
       " <tr class=\"Bxz(bb) Bdbw(1px) Bdbs(s) Bdc($seperatorColor) H(36px)\"><td class=\"C($primaryColor) W(51%)\"><span>EPS (TTM)</span></td><td class=\"Ta(end) Fw(600) Lh(14px)\" data-test=\"EPS_RATIO-value\">6.11</td></tr>,\n",
       " <tr class=\"Bxz(bb) Bdbw(1px) Bdbs(s) Bdc($seperatorColor) H(36px)\"><td class=\"C($primaryColor) W(51%)\"><span>Earnings Date</span></td><td class=\"Ta(end) Fw(600) Lh(14px)\" data-test=\"EARNINGS_DATE-value\"><span>Feb 02, 2023</span></td></tr>,\n",
       " <tr class=\"Bxz(bb) Bdbw(1px) Bdbs(s) Bdc($seperatorColor) H(36px)\"><td class=\"C($primaryColor) W(51%)\"><span>Forward Dividend &amp; Yield</span></td><td class=\"Ta(end) Fw(600) Lh(14px)\" data-test=\"DIVIDEND_AND_YIELD-value\">0.92 (0.71%)</td></tr>,\n",
       " <tr class=\"Bxz(bb) Bdbw(1px) Bdbs(s) Bdc($seperatorColor) H(36px)\"><td class=\"C($primaryColor) W(51%)\"><span>Ex-Dividend Date</span></td><td class=\"Ta(end) Fw(600) Lh(14px)\" data-test=\"EX_DIVIDEND_DATE-value\"><span>Nov 04, 2022</span></td></tr>,\n",
       " <tr class=\"Bxz(bb) Bdbw(1px) Bdbs(s) Bdc($seperatorColor) H(36px) Bdbw(0)!\"><td class=\"C($primaryColor) W(51%)\"><span>1y Target Est</span></td><td class=\"Ta(end) Fw(600) Lh(14px)\" data-test=\"ONE_YEAR_TARGET_PRICE-value\">172.67</td></tr>,\n",
       " <tr class=\"C($tertiaryColor) BdB Bxz(bb) Bdc($seperatorColor)\"><th class=\"Whs(nw) Py(6px) Ta(start) Fz(xs) Va(m) Py(5px) Fw(400) Ta(start) Pend(10px)\"><span>Symbol</span></th><th class=\"Whs(nw) Ta(end) Pstart(10px) Py(6px) Fz(xs) Va(m) Py(5px) Fw(400)\"><span>Last Price</span></th><th class=\"Whs(nw) Ta(end) Pstart(10px) Py(6px) Fz(xs) Va(m) Py(5px) Fw(400)\"><span>Change</span></th><th class=\"Whs(nw) Ta(end) Pstart(10px) Py(6px) Fz(xs) Va(m) Py(5px) Fw(400)\"><span>% Change</span></th></tr>,\n",
       " <tr class=\"dt-row Pos(r) Bgc($hoverBgColor):h BdB Bdbc($seperatorColor) H(44px)\"><td class=\"Va(t) Fz(14px) Whs(nw) Py(6px) Ta(start) Start(0) Pend(10px)\"><a class=\"Fw(b) Ell D(b) C($linkColor) Pos(r) Z(2)\" href=\"/quote/AMZN?p=AMZN&amp;ncid=yahooproperties_peoplealso_km0o32z3jzm\" title=\"Amazon.com, Inc.\">AMZN</a><p class=\"Fz(xs) Pt(2px) M(0) C($tertiaryColor) Pos(a) Fw(400)! Ell Maw(220px)\" title=\"Amazon.com, Inc.\">Amazon.com, Inc.</p></td><td class=\"Va(t) Fz(14px) Whs(nw) Ta(end) Pstart(10px) Py(6px)\"><fin-streamer active=\"\" class=\"Fw(500)\" data-field=\"regularMarketPrice\" data-pricehint=\"2\" data-symbol=\"AMZN\" data-trend=\"none\" value=\"96.2801\">96.28</fin-streamer></td><td class=\"Va(t) Fz(14px) Whs(nw) Ta(end) Pstart(10px) Py(6px)\"><fin-streamer active=\"\" class=\"Fw(500)\" data-field=\"regularMarketChange\" data-pricehint=\"2\" data-symbol=\"AMZN\" data-trend=\"txt\" value=\"-1.8399048\"><span class=\"C($negativeColor)\">-1.84</span></fin-streamer></td><td class=\"Va(t) Fz(14px) Whs(nw) Ta(end) Pstart(10px) Py(6px)\"><fin-streamer active=\"\" class=\"Fw(500)\" data-field=\"regularMarketChangePercent\" data-pricehint=\"2\" data-symbol=\"AMZN\" data-trend=\"txt\" value=\"-1.8751577\"><span class=\"C($negativeColor)\">-1.88%</span></fin-streamer></td></tr>,\n",
       " <tr class=\"dt-row Pos(r) Bgc($hoverBgColor):h BdB Bdbc($seperatorColor) H(44px)\"><td class=\"Va(t) Fz(14px) Whs(nw) Py(6px) Ta(start) Start(0) Pend(10px)\"><a class=\"Fw(b) Ell D(b) C($linkColor) Pos(r) Z(2)\" href=\"/quote/TSLA?p=TSLA&amp;ncid=yahooproperties_peoplealso_km0o32z3jzm\" title=\"Tesla, Inc.\">TSLA</a><p class=\"Fz(xs) Pt(2px) M(0) C($tertiaryColor) Pos(a) Fw(400)! Ell Maw(220px)\" title=\"Tesla, Inc.\">Tesla, Inc.</p></td><td class=\"Va(t) Fz(14px) Whs(nw) Ta(end) Pstart(10px) Py(6px)\"><fin-streamer active=\"\" class=\"Fw(500)\" data-field=\"regularMarketPrice\" data-pricehint=\"2\" data-symbol=\"TSLA\" data-trend=\"none\" value=\"130.881\">130.88</fin-streamer></td><td class=\"Va(t) Fz(14px) Whs(nw) Ta(end) Pstart(10px) Py(6px)\"><fin-streamer active=\"\" class=\"Fw(500)\" data-field=\"regularMarketChange\" data-pricehint=\"2\" data-symbol=\"TSLA\" data-trend=\"txt\" value=\"8.480995\"><span class=\"C($positiveColor)\">+8.48</span></fin-streamer></td><td class=\"Va(t) Fz(14px) Whs(nw) Ta(end) Pstart(10px) Py(6px)\"><fin-streamer active=\"\" class=\"Fw(500)\" data-field=\"regularMarketChangePercent\" data-pricehint=\"2\" data-symbol=\"TSLA\" data-trend=\"txt\" value=\"6.9289174\"><span class=\"C($positiveColor)\">+6.93%</span></fin-streamer></td></tr>,\n",
       " <tr class=\"dt-row Pos(r) Bgc($hoverBgColor):h BdB Bdbc($seperatorColor) H(44px)\"><td class=\"Va(t) Fz(14px) Whs(nw) Py(6px) Ta(start) Start(0) Pend(10px)\"><a class=\"Fw(b) Ell D(b) C($linkColor) Pos(r) Z(2)\" href=\"/quote/GOOG?p=GOOG&amp;ncid=yahooproperties_peoplealso_km0o32z3jzm\" title=\"Alphabet Inc.\">GOOG</a><p class=\"Fz(xs) Pt(2px) M(0) C($tertiaryColor) Pos(a) Fw(400)! Ell Maw(220px)\" title=\"Alphabet Inc.\">Alphabet Inc.</p></td><td class=\"Va(t) Fz(14px) Whs(nw) Ta(end) Pstart(10px) Py(6px)\"><fin-streamer active=\"\" class=\"Fw(500)\" data-field=\"regularMarketPrice\" data-pricehint=\"2\" data-symbol=\"GOOG\" data-trend=\"none\" value=\"92.23\">92.23</fin-streamer></td><td class=\"Va(t) Fz(14px) Whs(nw) Ta(end) Pstart(10px) Py(6px)\"><fin-streamer active=\"\" class=\"Fw(500)\" data-field=\"regularMarketChange\" data-pricehint=\"2\" data-symbol=\"GOOG\" data-trend=\"txt\" value=\"-0.5699997\"><span class=\"C($negativeColor)\">-0.57</span></fin-streamer></td><td class=\"Va(t) Fz(14px) Whs(nw) Ta(end) Pstart(10px) Py(6px)\"><fin-streamer active=\"\" class=\"Fw(500)\" data-field=\"regularMarketChangePercent\" data-pricehint=\"2\" data-symbol=\"GOOG\" data-trend=\"txt\" value=\"-0.6142238\"><span class=\"C($negativeColor)\">-0.61%</span></fin-streamer></td></tr>,\n",
       " <tr class=\"dt-row Pos(r) Bgc($hoverBgColor):h BdB Bdbc($seperatorColor) H(44px)\"><td class=\"Va(t) Fz(14px) Whs(nw) Py(6px) Ta(start) Start(0) Pend(10px)\"><a class=\"Fw(b) Ell D(b) C($linkColor) Pos(r) Z(2)\" href=\"/quote/META?p=META&amp;ncid=yahooproperties_peoplealso_km0o32z3jzm\" title=\"Meta Platforms, Inc.\">META</a><p class=\"Fz(xs) Pt(2px) M(0) C($tertiaryColor) Pos(a) Fw(400)! Ell Maw(220px)\" title=\"Meta Platforms, Inc.\">Meta Platforms, Inc.</p></td><td class=\"Va(t) Fz(14px) Whs(nw) Ta(end) Pstart(10px) Py(6px)\"><fin-streamer active=\"\" class=\"Fw(500)\" data-field=\"regularMarketPrice\" data-pricehint=\"2\" data-symbol=\"META\" data-trend=\"none\" value=\"136\">136.00</fin-streamer></td><td class=\"Va(t) Fz(14px) Whs(nw) Ta(end) Pstart(10px) Py(6px)\"><fin-streamer active=\"\" class=\"Fw(500)\" data-field=\"regularMarketChange\" data-pricehint=\"2\" data-symbol=\"META\" data-trend=\"txt\" value=\"-0.9799957\"><span class=\"C($negativeColor)\">-0.98</span></fin-streamer></td><td class=\"Va(t) Fz(14px) Whs(nw) Ta(end) Pstart(10px) Py(6px)\"><fin-streamer active=\"\" class=\"Fw(500)\" data-field=\"regularMarketChangePercent\" data-pricehint=\"2\" data-symbol=\"META\" data-trend=\"txt\" value=\"-0.71542984\"><span class=\"C($negativeColor)\">-0.72%</span></fin-streamer></td></tr>,\n",
       " <tr class=\"dt-row Pos(r) Bgc($hoverBgColor):h BdB Bdbc($seperatorColor) H(44px)\"><td class=\"Va(t) Fz(14px) Whs(nw) Py(6px) Ta(start) Start(0) Pend(10px)\"><a class=\"Fw(b) Ell D(b) C($linkColor) Pos(r) Z(2)\" href=\"/quote/NFLX?p=NFLX&amp;ncid=yahooproperties_peoplealso_km0o32z3jzm\" title=\"Netflix, Inc.\">NFLX</a><p class=\"Fz(xs) Pt(2px) M(0) C($tertiaryColor) Pos(a) Fw(400)! Ell Maw(220px)\" title=\"Netflix, Inc.\">Netflix, Inc.</p></td><td class=\"Va(t) Fz(14px) Whs(nw) Ta(end) Pstart(10px) Py(6px)\"><fin-streamer active=\"\" class=\"Fw(500)\" data-field=\"regularMarketPrice\" data-pricehint=\"2\" data-symbol=\"NFLX\" data-trend=\"none\" value=\"327.5499\">327.55</fin-streamer></td><td class=\"Va(t) Fz(14px) Whs(nw) Ta(end) Pstart(10px) Py(6px)\"><fin-streamer active=\"\" class=\"Fw(500)\" data-field=\"regularMarketChange\" data-pricehint=\"2\" data-symbol=\"NFLX\" data-trend=\"txt\" value=\"-5.270111\"><span class=\"C($negativeColor)\">-5.27</span></fin-streamer></td><td class=\"Va(t) Fz(14px) Whs(nw) Ta(end) Pstart(10px) Py(6px)\"><fin-streamer active=\"\" class=\"Fw(500)\" data-field=\"regularMarketChangePercent\" data-pricehint=\"2\" data-symbol=\"NFLX\" data-trend=\"txt\" value=\"-1.5834719\"><span class=\"C($negativeColor)\">-1.58%</span></fin-streamer></td></tr>,\n",
       " <tr class=\"C($tertiaryColor) BdB Bxz(bb) Bdc($seperatorColor)\"><th class=\"Whs(nw) Py(6px) Ta(start) Fz(xs) Va(m) Py(5px) Fw(400) Ta(start) Pend(10px)\"><span>Symbol</span></th><th class=\"Whs(nw) Ta(end) Pstart(10px) Py(6px) Fz(xs) Va(m) Py(5px) Fw(400)\"><span>Last Price</span></th><th class=\"Whs(nw) Ta(end) Pstart(10px) Py(6px) Fz(xs) Va(m) Py(5px) Fw(400)\"><span>Change</span></th><th class=\"Whs(nw) Ta(end) Pstart(10px) Py(6px) Fz(xs) Va(m) Py(5px) Fw(400)\"><span>% Change</span></th></tr>,\n",
       " <tr class=\"dt-row Pos(r) Bgc($hoverBgColor):h BdB Bdbc($seperatorColor) H(44px)\"><td class=\"Va(t) Fz(14px) Whs(nw) Py(6px) Ta(start) Start(0) Pend(10px)\"><a class=\"Fw(b) Ell D(b) C($linkColor) Pos(r) Z(2)\" href=\"/quote/SONY?p=SONY&amp;ncid=yahooproperties_stockrecom_g40boan2td8\" title=\"Sony Group Corporation\">SONY</a><p class=\"Fz(xs) Pt(2px) M(0) C($tertiaryColor) Pos(a) Fw(400)! Ell Maw(220px)\" title=\"Sony Group Corporation\">Sony Group Corporation</p></td><td class=\"Va(t) Fz(14px) Whs(nw) Ta(end) Pstart(10px) Py(6px)\"><fin-streamer active=\"\" class=\"Fw(500)\" data-field=\"regularMarketPrice\" data-pricehint=\"2\" data-symbol=\"SONY\" data-trend=\"none\" value=\"86.75\">86.75</fin-streamer></td><td class=\"Va(t) Fz(14px) Whs(nw) Ta(end) Pstart(10px) Py(6px)\"><fin-streamer active=\"\" class=\"Fw(500)\" data-field=\"regularMarketChange\" data-pricehint=\"2\" data-symbol=\"SONY\" data-trend=\"txt\" value=\"1\"><span class=\"C($positiveColor)\">+1.00</span></fin-streamer></td><td class=\"Va(t) Fz(14px) Whs(nw) Ta(end) Pstart(10px) Py(6px)\"><fin-streamer active=\"\" class=\"Fw(500)\" data-field=\"regularMarketChangePercent\" data-pricehint=\"2\" data-symbol=\"SONY\" data-trend=\"txt\" value=\"1.1661807\"><span class=\"C($positiveColor)\">+1.17%</span></fin-streamer></td></tr>,\n",
       " <tr class=\"dt-row Pos(r) Bgc($hoverBgColor):h BdB Bdbc($seperatorColor) H(44px)\"><td class=\"Va(t) Fz(14px) Whs(nw) Py(6px) Ta(start) Start(0) Pend(10px)\"><a class=\"Fw(b) Ell D(b) C($linkColor) Pos(r) Z(2)\" href=\"/quote/GPRO?p=GPRO&amp;ncid=yahooproperties_stockrecom_g40boan2td8\" title=\"GoPro, Inc.\">GPRO</a><p class=\"Fz(xs) Pt(2px) M(0) C($tertiaryColor) Pos(a) Fw(400)! Ell Maw(220px)\" title=\"GoPro, Inc.\">GoPro, Inc.</p></td><td class=\"Va(t) Fz(14px) Whs(nw) Ta(end) Pstart(10px) Py(6px)\"><fin-streamer active=\"\" class=\"Fw(500)\" data-field=\"regularMarketPrice\" data-pricehint=\"2\" data-symbol=\"GPRO\" data-trend=\"none\" value=\"5.57\">5.57</fin-streamer></td><td class=\"Va(t) Fz(14px) Whs(nw) Ta(end) Pstart(10px) Py(6px)\"><fin-streamer active=\"\" class=\"Fw(500)\" data-field=\"regularMarketChange\" data-pricehint=\"2\" data-symbol=\"GPRO\" data-trend=\"txt\" value=\"-0.03999996\"><span class=\"C($negativeColor)\">-0.04</span></fin-streamer></td><td class=\"Va(t) Fz(14px) Whs(nw) Ta(end) Pstart(10px) Py(6px)\"><fin-streamer active=\"\" class=\"Fw(500)\" data-field=\"regularMarketChangePercent\" data-pricehint=\"2\" data-symbol=\"GPRO\" data-trend=\"txt\" value=\"-0.71301174\"><span class=\"C($negativeColor)\">-0.71%</span></fin-streamer></td></tr>,\n",
       " <tr class=\"dt-row Pos(r) Bgc($hoverBgColor):h BdB Bdbc($seperatorColor) H(44px)\"><td class=\"Va(t) Fz(14px) Whs(nw) Py(6px) Ta(start) Start(0) Pend(10px)\"><a class=\"Fw(b) Ell D(b) C($linkColor) Pos(r) Z(2)\" href=\"/quote/VUZI?p=VUZI&amp;ncid=yahooproperties_stockrecom_g40boan2td8\" title=\"Vuzix Corporation\">VUZI</a><p class=\"Fz(xs) Pt(2px) M(0) C($tertiaryColor) Pos(a) Fw(400)! Ell Maw(220px)\" title=\"Vuzix Corporation\">Vuzix Corporation</p></td><td class=\"Va(t) Fz(14px) Whs(nw) Ta(end) Pstart(10px) Py(6px)\"><fin-streamer active=\"\" class=\"Fw(500)\" data-field=\"regularMarketPrice\" data-pricehint=\"2\" data-symbol=\"VUZI\" data-trend=\"none\" value=\"5.19\">5.19</fin-streamer></td><td class=\"Va(t) Fz(14px) Whs(nw) Ta(end) Pstart(10px) Py(6px)\"><fin-streamer active=\"\" class=\"Fw(500)\" data-field=\"regularMarketChange\" data-pricehint=\"2\" data-symbol=\"VUZI\" data-trend=\"txt\" value=\"0.17000008\"><span class=\"C($positiveColor)\">+0.17</span></fin-streamer></td><td class=\"Va(t) Fz(14px) Whs(nw) Ta(end) Pstart(10px) Py(6px)\"><fin-streamer active=\"\" class=\"Fw(500)\" data-field=\"regularMarketChangePercent\" data-pricehint=\"2\" data-symbol=\"VUZI\" data-trend=\"txt\" value=\"3.3864558\"><span class=\"C($positiveColor)\">+3.39%</span></fin-streamer></td></tr>,\n",
       " <tr class=\"dt-row Pos(r) Bgc($hoverBgColor):h BdB Bdbc($seperatorColor) H(44px)\"><td class=\"Va(t) Fz(14px) Whs(nw) Py(6px) Ta(start) Start(0) Pend(10px)\"><a class=\"Fw(b) Ell D(b) C($linkColor) Pos(r) Z(2)\" href=\"/quote/SONO?p=SONO&amp;ncid=yahooproperties_stockrecom_g40boan2td8\" title=\"Sonos, Inc.\">SONO</a><p class=\"Fz(xs) Pt(2px) M(0) C($tertiaryColor) Pos(a) Fw(400)! Ell Maw(220px)\" title=\"Sonos, Inc.\">Sonos, Inc.</p></td><td class=\"Va(t) Fz(14px) Whs(nw) Ta(end) Pstart(10px) Py(6px)\"><fin-streamer active=\"\" class=\"Fw(500)\" data-field=\"regularMarketPrice\" data-pricehint=\"2\" data-symbol=\"SONO\" data-trend=\"none\" value=\"18.07\">18.07</fin-streamer></td><td class=\"Va(t) Fz(14px) Whs(nw) Ta(end) Pstart(10px) Py(6px)\"><fin-streamer active=\"\" class=\"Fw(500)\" data-field=\"regularMarketChange\" data-pricehint=\"2\" data-symbol=\"SONO\" data-trend=\"txt\" value=\"-0.020000458\"><span class=\"C($negativeColor)\">-0.02</span></fin-streamer></td><td class=\"Va(t) Fz(14px) Whs(nw) Ta(end) Pstart(10px) Py(6px)\"><fin-streamer active=\"\" class=\"Fw(500)\" data-field=\"regularMarketChangePercent\" data-pricehint=\"2\" data-symbol=\"SONO\" data-trend=\"txt\" value=\"-0.11056086\"><span class=\"C($negativeColor)\">-0.11%</span></fin-streamer></td></tr>,\n",
       " <tr class=\"dt-row Pos(r) Bgc($hoverBgColor):h BdB Bdbc($seperatorColor) H(44px)\"><td class=\"Va(t) Fz(14px) Whs(nw) Py(6px) Ta(start) Start(0) Pend(10px)\"><a class=\"Fw(b) Ell D(b) C($linkColor) Pos(r) Z(2)\" href=\"/quote/KOSS?p=KOSS&amp;ncid=yahooproperties_stockrecom_g40boan2td8\" title=\"Koss Corporation\">KOSS</a><p class=\"Fz(xs) Pt(2px) M(0) C($tertiaryColor) Pos(a) Fw(400)! Ell Maw(220px)\" title=\"Koss Corporation\">Koss Corporation</p></td><td class=\"Va(t) Fz(14px) Whs(nw) Ta(end) Pstart(10px) Py(6px)\"><fin-streamer active=\"\" class=\"Fw(500)\" data-field=\"regularMarketPrice\" data-pricehint=\"2\" data-symbol=\"KOSS\" data-trend=\"none\" value=\"6.04\">6.04</fin-streamer></td><td class=\"Va(t) Fz(14px) Whs(nw) Ta(end) Pstart(10px) Py(6px)\"><fin-streamer active=\"\" class=\"Fw(500)\" data-field=\"regularMarketChange\" data-pricehint=\"2\" data-symbol=\"KOSS\" data-trend=\"txt\" value=\"0.07999992\"><span class=\"C($positiveColor)\">+0.08</span></fin-streamer></td><td class=\"Va(t) Fz(14px) Whs(nw) Ta(end) Pstart(10px) Py(6px)\"><fin-streamer active=\"\" class=\"Fw(500)\" data-field=\"regularMarketChangePercent\" data-pricehint=\"2\" data-symbol=\"KOSS\" data-trend=\"txt\" value=\"1.3422806\"><span class=\"C($positiveColor)\">+1.34%</span></fin-streamer></td></tr>,\n",
       " <tr class=\"Bdc($seperatorColor) Bxz(bb) H(50px) BdT\" tabindex=\"1\"><td class=\"W(10px) Ta(c) Fw(500) Ta(start) Pend(6px) Bxz(bb)\"><span class=\"Icon-Fp2 undefined\"></span></td><td class=\"W(70px) Pend(12px) Fw(500) Bxz(bb)\"><span class=\"\"><span>Maintains</span></span></td><td class=\"C($secondaryColor)\">Rosenblatt<!-- -->: <!-- --> to Buy</td><td class=\"Ta(end) C($tertiaryColor) Fz(xs)\"><span>1/13/2023</span></td></tr>,\n",
       " <tr class=\"Bdc($seperatorColor) Bxz(bb) H(50px) BdT\" tabindex=\"2\"><td class=\"W(10px) Ta(c) Fw(500) Ta(start) Pend(6px) Bxz(bb)\"><span class=\"Icon-Fp2 undefined\"></span></td><td class=\"W(70px) Pend(12px) Fw(500) Bxz(bb)\"><span class=\"\"><span>Maintains</span></span></td><td class=\"C($secondaryColor)\">Barclays<!-- -->: <!-- --> to Equal-Weight</td><td class=\"Ta(end) C($tertiaryColor) Fz(xs)\"><span>1/11/2023</span></td></tr>,\n",
       " <tr class=\"Bdc($seperatorColor) Bxz(bb) H(50px) BdT\" tabindex=\"3\"><td class=\"W(10px) Ta(c) Fw(500) Ta(start) Pend(6px) Bxz(bb)\"><span class=\"Icon-Fp2 undefined\"></span></td><td class=\"W(70px) Pend(12px) Fw(500) Bxz(bb)\"><span class=\"\"><span>Maintains</span></span></td><td class=\"C($secondaryColor)\">Wedbush<!-- -->: <!-- --> to Outperform</td><td class=\"Ta(end) C($tertiaryColor) Fz(xs)\"><span>1/4/2023</span></td></tr>,\n",
       " <tr class=\"Bdc($seperatorColor) Bxz(bb) H(50px) BdT\" tabindex=\"4\"><td class=\"W(10px) Ta(c) Fw(500) Ta(start) Pend(6px) Bxz(bb)\"><span class=\"Icon-Fp2 IconFinanceArrowDown C($negativeColor)\"></span></td><td class=\"W(70px) Pend(12px) Fw(500) Bxz(bb)\"><span class=\"C($negativeColor)\"><span>Downgrade</span></span></td><td class=\"C($secondaryColor)\">Exane BNP Paribas<!-- -->: <!-- -->Outperform to Neutral</td><td class=\"Ta(end) C($tertiaryColor) Fz(xs)\"><span>1/3/2023</span></td></tr>,\n",
       " <tr class=\"Bdc($seperatorColor) Bxz(bb) H(50px) BdT\" tabindex=\"5\"><td class=\"W(10px) Ta(c) Fw(500) Ta(start) Pend(6px) Bxz(bb)\"><span class=\"Icon-Fp2 undefined\"></span></td><td class=\"W(70px) Pend(12px) Fw(500) Bxz(bb)\"><span class=\"\"><span>Maintains</span></span></td><td class=\"C($secondaryColor)\">JP Morgan<!-- -->: <!-- --> to Overweight</td><td class=\"Ta(end) C($tertiaryColor) Fz(xs)\"><span>12/20/2022</span></td></tr>,\n",
       " <tr class=\"Bdc($seperatorColor) Bxz(bb) H(50px) BdY\" tabindex=\"6\"><td class=\"W(10px) Ta(c) Fw(500) Ta(start) Pend(6px) Bxz(bb)\"><span class=\"Icon-Fp2 undefined\"></span></td><td class=\"W(70px) Pend(12px) Fw(500) Bxz(bb)\"><span class=\"\"><span>Maintains</span></span></td><td class=\"C($secondaryColor)\">UBS<!-- -->: <!-- --> to Buy</td><td class=\"Ta(end) C($tertiaryColor) Fz(xs)\"><span>11/8/2022</span></td></tr>]"
      ]
     },
     "execution_count": 57,
     "metadata": {},
     "output_type": "execute_result"
    }
   ],
   "source": [
    "red_text"
   ]
  },
  {
   "cell_type": "code",
   "execution_count": 77,
   "id": "67aca4ad",
   "metadata": {},
   "outputs": [
    {
     "data": {
      "text/plain": [
       "'134.76'"
      ]
     },
     "execution_count": 77,
     "metadata": {},
     "output_type": "execute_result"
    }
   ],
   "source": [
    "soup.find_all('tr',class_='Bxz(bb) Bdbw(1px) Bdbs(s) Bdc($seperatorColor) H(36px)')[0].contents[1].text\n",
    "soup.find_all('tr',class_='Bxz(bb) Bdbw(1px) Bdbs(s) Bdc($seperatorColor) H(36px)')[0].find_all('td')[1].text\n"
   ]
  },
  {
   "cell_type": "code",
   "execution_count": 87,
   "id": "22fd339b",
   "metadata": {},
   "outputs": [
    {
     "data": {
      "text/plain": [
       "'134.76'"
      ]
     },
     "execution_count": 87,
     "metadata": {},
     "output_type": "execute_result"
    }
   ],
   "source": [
    "soup.find('td',attrs={'data-test':'PREV_CLOSE-value'}).text"
   ]
  },
  {
   "cell_type": "code",
   "execution_count": 67,
   "id": "fc45eb5c",
   "metadata": {},
   "outputs": [
    {
     "name": "stdout",
     "output_type": "stream",
     "text": [
      "['Previous Close', 'Open', 'Bid', 'Ask', \"Day's Range\", '52 Week Range', 'Volume', 'Avg. Volume', 'Market Cap', 'Beta (5Y Monthly)', 'PE Ratio (TTM)', 'EPS (TTM)', 'Earnings Date', 'Forward Dividend & Yield', 'Ex-Dividend Date', '1y Target Est', 'Symbol', 'AMZNAmazon.com, Inc.', 'TSLATesla, Inc.', 'GOOGAlphabet Inc.', 'METAMeta Platforms, Inc.', 'NFLXNetflix, Inc.', 'Symbol', 'SONYSony Group Corporation', 'GPROGoPro, Inc.', 'VUZIVuzix Corporation', 'SONOSonos, Inc.', 'KOSSKoss Corporation', '', '', '', '', '', '']\n",
      "['134.76', '134.83', '136.74 x 1800', '136.77 x 1400', '134.15 - 137.29', '124.17 - 179.61', '63,646,627', '81,816,316', '2.163T', '1.27', '22.25', '6.11', 'Feb 02, 2023', '0.92 (0.71%)', 'Nov 04, 2022', '172.67', 'Last Price', '96.05', '131.49', '92.16', '135.36', '326.22', 'Last Price', '86.76', '5.59', '5.35', '18.02', '6.00', 'Maintains', 'Maintains', 'Maintains', 'Maintains', 'Downgrade', 'Maintains']\n",
      "{'Previous Close': '134.76', 'Open': '134.83', 'Bid': '136.74 x 1800', 'Ask': '136.77 x 1400', \"Day's Range\": '134.15 - 137.29', '52 Week Range': '124.17 - 179.61', 'Volume': '63,646,627', 'Avg. Volume': '81,816,316', 'Market Cap': '2.163T', 'Beta (5Y Monthly)': '1.27', 'PE Ratio (TTM)': '22.25', 'EPS (TTM)': '6.11', 'Earnings Date': 'Feb 02, 2023', 'Forward Dividend & Yield': '0.92 (0.71%)', 'Ex-Dividend Date': 'Nov 04, 2022', '1y Target Est': '172.67', 'Symbol': 'Last Price', 'AMZNAmazon.com, Inc.': '96.05', 'TSLATesla, Inc.': '131.49', 'GOOGAlphabet Inc.': '92.16', 'METAMeta Platforms, Inc.': '135.36', 'NFLXNetflix, Inc.': '326.22', 'SONYSony Group Corporation': '86.76', 'GPROGoPro, Inc.': '5.59', 'VUZIVuzix Corporation': '5.35', 'SONOSonos, Inc.': '18.02', 'KOSSKoss Corporation': '6.00', '': 'Maintains'}\n"
     ]
    }
   ],
   "source": [
    "endName = '1Y Target Est'\n",
    "names = []\n",
    "values = []\n",
    "\n",
    "namVal = {}\n",
    "for i in range(len(red_text)):\n",
    "    for j in range(len(red_text[i].contents)):\n",
    "        if j == 0:\n",
    "            name = red_text[i].contents[j].text\n",
    "            names.append(name)\n",
    "        if j == 1:\n",
    "            value = red_text[i].contents[j].text\n",
    "            values.append(value)\n",
    "    namVal[name] = value\n",
    "    if name == '1Y Target Est':\n",
    "        break\n",
    "    \n",
    "print(names)\n",
    "print(values)\n",
    "print(namVal)\n",
    "\n",
    "            "
   ]
  },
  {
   "cell_type": "code",
   "execution_count": 34,
   "id": "ddf5794d",
   "metadata": {},
   "outputs": [
    {
     "data": {
      "text/plain": [
       "[<table class=\"W(100%)\"><tbody><tr class=\"Bxz(bb) Bdbw(1px) Bdbs(s) Bdc($seperatorColor) H(36px)\"><td class=\"C($primaryColor) W(51%)\"><span>Previous Close</span></td><td class=\"Ta(end) Fw(600) Lh(14px)\" data-test=\"PREV_CLOSE-value\">134.76</td></tr><tr class=\"Bxz(bb) Bdbw(1px) Bdbs(s) Bdc($seperatorColor) H(36px)\"><td class=\"C($primaryColor) W(51%)\"><span>Open</span></td><td class=\"Ta(end) Fw(600) Lh(14px)\" data-test=\"OPEN-value\">134.83</td></tr><tr class=\"Bxz(bb) Bdbw(1px) Bdbs(s) Bdc($seperatorColor) H(36px)\"><td class=\"C($primaryColor) W(51%)\"><span>Bid</span></td><td class=\"Ta(end) Fw(600) Lh(14px)\" data-test=\"BID-value\">136.74 x 1800</td></tr><tr class=\"Bxz(bb) Bdbw(1px) Bdbs(s) Bdc($seperatorColor) H(36px)\"><td class=\"C($primaryColor) W(51%)\"><span>Ask</span></td><td class=\"Ta(end) Fw(600) Lh(14px)\" data-test=\"ASK-value\">136.77 x 1400</td></tr><tr class=\"Bxz(bb) Bdbw(1px) Bdbs(s) Bdc($seperatorColor) H(36px)\"><td class=\"C($primaryColor) W(51%)\"><span>Day's Range</span></td><td class=\"Ta(end) Fw(600) Lh(14px)\" data-test=\"DAYS_RANGE-value\">134.15 - 137.29</td></tr><tr class=\"Bxz(bb) Bdbw(1px) Bdbs(s) Bdc($seperatorColor) H(36px)\"><td class=\"C($primaryColor) W(51%)\"><span>52 Week Range</span></td><td class=\"Ta(end) Fw(600) Lh(14px)\" data-test=\"FIFTY_TWO_WK_RANGE-value\">124.17 - 179.61</td></tr><tr class=\"Bxz(bb) Bdbw(1px) Bdbs(s) Bdc($seperatorColor) H(36px)\"><td class=\"C($primaryColor) W(51%)\"><span>Volume</span></td><td class=\"Ta(end) Fw(600) Lh(14px)\" data-test=\"TD_VOLUME-value\"><fin-streamer active=\"\" data-dfield=\"longFmt\" data-field=\"regularMarketVolume\" data-pricehint=\"2\" data-symbol=\"AAPL\" data-trend=\"none\" value=\"63,646,627\">63,646,627</fin-streamer></td></tr><tr class=\"Bxz(bb) Bdbw(1px) Bdbs(s) Bdc($seperatorColor) H(36px) Bdbw(0)!\"><td class=\"C($primaryColor) W(51%)\"><span>Avg. Volume</span></td><td class=\"Ta(end) Fw(600) Lh(14px)\" data-test=\"AVERAGE_VOLUME_3MONTH-value\">81,816,316</td></tr></tbody></table>,\n",
       " <table class=\"W(100%) M(0) Bdcl(c)\"><tbody><tr class=\"Bxz(bb) Bdbw(1px) Bdbs(s) Bdc($seperatorColor) H(36px)\"><td class=\"C($primaryColor) W(51%)\"><span>Market Cap</span></td><td class=\"Ta(end) Fw(600) Lh(14px)\" data-test=\"MARKET_CAP-value\">2.163T</td></tr><tr class=\"Bxz(bb) Bdbw(1px) Bdbs(s) Bdc($seperatorColor) H(36px)\"><td class=\"C($primaryColor) W(51%)\"><span>Beta (5Y Monthly)</span></td><td class=\"Ta(end) Fw(600) Lh(14px)\" data-test=\"BETA_5Y-value\">1.27</td></tr><tr class=\"Bxz(bb) Bdbw(1px) Bdbs(s) Bdc($seperatorColor) H(36px)\"><td class=\"C($primaryColor) W(51%)\"><span>PE Ratio (TTM)</span></td><td class=\"Ta(end) Fw(600) Lh(14px)\" data-test=\"PE_RATIO-value\">22.25</td></tr><tr class=\"Bxz(bb) Bdbw(1px) Bdbs(s) Bdc($seperatorColor) H(36px)\"><td class=\"C($primaryColor) W(51%)\"><span>EPS (TTM)</span></td><td class=\"Ta(end) Fw(600) Lh(14px)\" data-test=\"EPS_RATIO-value\">6.11</td></tr><tr class=\"Bxz(bb) Bdbw(1px) Bdbs(s) Bdc($seperatorColor) H(36px)\"><td class=\"C($primaryColor) W(51%)\"><span>Earnings Date</span></td><td class=\"Ta(end) Fw(600) Lh(14px)\" data-test=\"EARNINGS_DATE-value\"><span>Feb 02, 2023</span></td></tr><tr class=\"Bxz(bb) Bdbw(1px) Bdbs(s) Bdc($seperatorColor) H(36px)\"><td class=\"C($primaryColor) W(51%)\"><span>Forward Dividend &amp; Yield</span></td><td class=\"Ta(end) Fw(600) Lh(14px)\" data-test=\"DIVIDEND_AND_YIELD-value\">0.92 (0.71%)</td></tr><tr class=\"Bxz(bb) Bdbw(1px) Bdbs(s) Bdc($seperatorColor) H(36px)\"><td class=\"C($primaryColor) W(51%)\"><span>Ex-Dividend Date</span></td><td class=\"Ta(end) Fw(600) Lh(14px)\" data-test=\"EX_DIVIDEND_DATE-value\"><span>Nov 04, 2022</span></td></tr><tr class=\"Bxz(bb) Bdbw(1px) Bdbs(s) Bdc($seperatorColor) H(36px) Bdbw(0)!\"><td class=\"C($primaryColor) W(51%)\"><span>1y Target Est</span></td><td class=\"Ta(end) Fw(600) Lh(14px)\" data-test=\"ONE_YEAR_TARGET_PRICE-value\">172.67</td></tr></tbody></table>]"
      ]
     },
     "execution_count": 34,
     "metadata": {},
     "output_type": "execute_result"
    }
   ],
   "source": [
    "table_text = soup.find_all('table')[:2]\n",
    "table_text"
   ]
  },
  {
   "cell_type": "code",
   "execution_count": 70,
   "id": "3c83d2ef",
   "metadata": {},
   "outputs": [
    {
     "name": "stdout",
     "output_type": "stream",
     "text": [
      "['Previous Close', 'Open', 'Bid', 'Ask', \"Day's Range\", '52 Week Range', 'Volume', 'Avg. Volume', 'Market Cap', 'Beta (5Y Monthly)', 'PE Ratio (TTM)', 'EPS (TTM)', 'Earnings Date', 'Forward Dividend & Yield', 'Ex-Dividend Date', '1y Target Est']\n",
      "['134.76', '134.83', '136.74 x 1800', '136.77 x 1400', '134.15 - 137.29', '124.17 - 179.61', '63,646,627', '81,816,316', '2.163T', '1.27', '22.25', '6.11', 'Feb 02, 2023', '0.92 (0.71%)', 'Nov 04, 2022', '172.67']\n",
      "{'Previous Close': '134.76', 'Open': '134.83', 'Bid': '136.74 x 1800', 'Ask': '136.77 x 1400', \"Day's Range\": '134.15 - 137.29', '52 Week Range': '124.17 - 179.61', 'Volume': '63,646,627', 'Avg. Volume': '81,816,316', 'Market Cap': '2.163T', 'Beta (5Y Monthly)': '1.27', 'PE Ratio (TTM)': '22.25', 'EPS (TTM)': '6.11', 'Earnings Date': 'Feb 02, 2023', 'Forward Dividend & Yield': '0.92 (0.71%)', 'Ex-Dividend Date': 'Nov 04, 2022', '1y Target Est': '172.67'}\n"
     ]
    }
   ],
   "source": [
    "endName = '1Y Target Est'\n",
    "names = []\n",
    "values = []\n",
    "\n",
    "namVal = {}\n",
    "for i in range(len(table_text)):\n",
    "    for j in range(len(table_text[i].contents)):\n",
    "        for k in range(len(table_text[i].contents[j])):\n",
    "            for l in range(len(table_text[i].contents[j].contents[k])):\n",
    "                if l == 0:\n",
    "                    name = table_text[i].contents[j].contents[k].contents[l].text\n",
    "                    names.append(name)\n",
    "                if l == 1:\n",
    "                    value = table_text[i].contents[j].contents[k].contents[l].text\n",
    "                    values.append(value)\n",
    "                    namVal[name] = value\n",
    "    if name == '1Y Target Est':\n",
    "        break\n",
    "    \n",
    "print(names)\n",
    "print(values)\n",
    "print(namVal)\n",
    "            \n",
    "            "
   ]
  },
  {
   "cell_type": "code",
   "execution_count": 86,
   "id": "44ab40d8",
   "metadata": {
    "scrolled": true
   },
   "outputs": [],
   "source": [
    "df = pd.DataFrame(namVal,index=[0])\n"
   ]
  },
  {
   "cell_type": "code",
   "execution_count": 88,
   "id": "c967685a",
   "metadata": {},
   "outputs": [
    {
     "name": "stdout",
     "output_type": "stream",
     "text": [
      "                                        0\n",
      "Previous Close                     134.76\n",
      "Open                               134.83\n",
      "Bid                         136.74 x 1800\n",
      "Ask                         136.77 x 1400\n",
      "Day's Range               134.15 - 137.29\n",
      "52 Week Range             124.17 - 179.61\n",
      "Volume                         63,646,627\n",
      "Avg. Volume                    81,816,316\n",
      "Market Cap                         2.163T\n",
      "Beta (5Y Monthly)                    1.27\n",
      "PE Ratio (TTM)                      22.25\n",
      "EPS (TTM)                            6.11\n",
      "Earnings Date                Feb 02, 2023\n",
      "Forward Dividend & Yield     0.92 (0.71%)\n",
      "Ex-Dividend Date             Nov 04, 2022\n",
      "1y Target Est                      172.67\n"
     ]
    }
   ],
   "source": [
    "print(df.transpose())"
   ]
  },
  {
   "cell_type": "code",
   "execution_count": 89,
   "id": "bb9ad3d8",
   "metadata": {},
   "outputs": [],
   "source": [
    "tikker_src_url = 'https://en.wikipedia.org/wiki/List_of_S%26P_500_companies'"
   ]
  },
  {
   "cell_type": "code",
   "execution_count": 91,
   "id": "738111cc",
   "metadata": {},
   "outputs": [],
   "source": [
    "response_tik = requests.get(tikker_src_url)"
   ]
  },
  {
   "cell_type": "code",
   "execution_count": 92,
   "id": "059e5f53",
   "metadata": {},
   "outputs": [],
   "source": [
    "soup_tik = BeautifulSoup(response_tik.text,features='html.parser')"
   ]
  },
  {
   "cell_type": "code",
   "execution_count": 98,
   "id": "75295f8c",
   "metadata": {},
   "outputs": [],
   "source": [
    "tik_symbol = soup_tik.find_all('tbody')[0]"
   ]
  },
  {
   "cell_type": "code",
   "execution_count": 102,
   "id": "f299d374",
   "metadata": {},
   "outputs": [
    {
     "data": {
      "text/plain": [
       "'MMM\\n'"
      ]
     },
     "execution_count": 102,
     "metadata": {},
     "output_type": "execute_result"
    }
   ],
   "source": [
    "tik_symbol.contents[2].contents[1].text"
   ]
  },
  {
   "cell_type": "code",
   "execution_count": 107,
   "id": "36b8f386",
   "metadata": {},
   "outputs": [
    {
     "data": {
      "text/plain": [
       "range(0, 1007)"
      ]
     },
     "execution_count": 107,
     "metadata": {},
     "output_type": "execute_result"
    }
   ],
   "source": [
    " range(len(tik_symbol))"
   ]
  },
  {
   "cell_type": "code",
   "execution_count": 122,
   "id": "d4f8dc85",
   "metadata": {},
   "outputs": [],
   "source": [
    "def gettikkersymbols():\n",
    "    tikker_src_url = 'https://en.wikipedia.org/wiki/List_of_S%26P_500_companies'\n",
    "    response_tik = requests.get(tikker_src_url)\n",
    "    soup_tik = BeautifulSoup(response_tik.text,features='html.parser')\n",
    "    tik_symbol = soup_tik.find_all('tbody')[0]\n",
    "    \n",
    "    symbols = []\n",
    "    for i in range(len(tik_symbol)):\n",
    "        if i<2:\n",
    "            continue\n",
    "        if i%2 != 0:\n",
    "            continue\n",
    "        symbol = tik_symbol.contents[i].contents[1].text.strip('\\n')\n",
    "        symbols.append(symbol)\n",
    "\n",
    "#     print(symbols)\n",
    "    \n",
    "    return symbols\n",
    "    "
   ]
  },
  {
   "cell_type": "code",
   "execution_count": 129,
   "id": "b0e3d478",
   "metadata": {},
   "outputs": [],
   "source": [
    "def getstockinfo(tikker_symbol):\n",
    "    print('Symbol::',tikker_symbol)\n",
    "    source_url = 'https://finance.yahoo.com/quote/'+tikker_symbol+'?p='+tikker_symbol\n",
    "    response = requests.get(source_url)\n",
    "    \n",
    "    soup = BeautifulSoup(response.text,features='html.parser')\n",
    "    \n",
    "    table_text = soup.find_all('table')[:2]\n",
    "    \n",
    "    endName = '1Y Target Est'\n",
    "    names = []\n",
    "    values = []\n",
    "    try:\n",
    "        namVal = {}\n",
    "        for i in range(len(table_text)):\n",
    "            for j in range(len(table_text[i].contents)):\n",
    "                for k in range(len(table_text[i].contents[j])):\n",
    "                    for l in range(len(table_text[i].contents[j].contents[k])):\n",
    "                        if l == 0:\n",
    "                            name = table_text[i].contents[j].contents[k].contents[l].text\n",
    "                            names.append(name)\n",
    "                        if l == 1:\n",
    "                            value = table_text[i].contents[j].contents[k].contents[l].text\n",
    "                            values.append(value)\n",
    "                            namVal[name] = value\n",
    "            if name == '1Y Target Est':\n",
    "                break\n",
    "    except:\n",
    "        pass\n",
    "\n",
    "#     print(names)\n",
    "#     print(values)\n",
    "#     print(namVal)\n",
    "    \n",
    "    return names,values\n",
    "            \n",
    "            "
   ]
  },
  {
   "cell_type": "code",
   "execution_count": 130,
   "id": "ee4b42de",
   "metadata": {},
   "outputs": [
    {
     "name": "stdout",
     "output_type": "stream",
     "text": [
      "Symbol:: BRK.B\n"
     ]
    },
    {
     "data": {
      "text/plain": [
       "([], [])"
      ]
     },
     "execution_count": 130,
     "metadata": {},
     "output_type": "execute_result"
    }
   ],
   "source": [
    "getstockinfo('BRK.B')"
   ]
  },
  {
   "cell_type": "code",
   "execution_count": 134,
   "id": "53177552",
   "metadata": {},
   "outputs": [
    {
     "name": "stdout",
     "output_type": "stream",
     "text": [
      "Symbol:: MMM\n",
      "Symbol:: AOS\n",
      "Symbol:: ABT\n",
      "Symbol:: ABBV\n",
      "Symbol:: ACN\n",
      "Symbol:: ATVI\n",
      "Symbol:: ADM\n",
      "Symbol:: ADBE\n",
      "Symbol:: ADP\n",
      "Symbol:: AAP\n",
      "Symbol:: AES\n",
      "Symbol:: AFL\n",
      "Symbol:: A\n",
      "Symbol:: APD\n",
      "Symbol:: AKAM\n",
      "Symbol:: ALK\n",
      "Symbol:: ALB\n",
      "Symbol:: ARE\n",
      "Symbol:: ALGN\n",
      "Symbol:: ALLE\n",
      "Symbol:: LNT\n",
      "Symbol:: ALL\n",
      "Symbol:: GOOGL\n",
      "Symbol:: GOOG\n",
      "Symbol:: MO\n",
      "Symbol:: AMZN\n",
      "Symbol:: AMCR\n",
      "Symbol:: AMD\n",
      "Symbol:: AEE\n",
      "Symbol:: AAL\n",
      "Symbol:: AEP\n",
      "Symbol:: AXP\n",
      "Symbol:: AIG\n",
      "Symbol:: AMT\n",
      "Symbol:: AWK\n",
      "Symbol:: AMP\n",
      "Symbol:: ABC\n",
      "Symbol:: AME\n",
      "Symbol:: AMGN\n",
      "Symbol:: APH\n",
      "Symbol:: ADI\n",
      "Symbol:: ANSS\n",
      "Symbol:: AON\n",
      "Symbol:: APA\n",
      "Symbol:: AAPL\n",
      "Symbol:: AMAT\n",
      "Symbol:: APTV\n",
      "Symbol:: ACGL\n",
      "Symbol:: ANET\n",
      "Symbol:: AJG\n",
      "Symbol:: AIZ\n",
      "Symbol:: T\n",
      "Symbol:: ATO\n",
      "Symbol:: ADSK\n",
      "Symbol:: AZO\n",
      "Symbol:: AVB\n",
      "Symbol:: AVY\n",
      "Symbol:: BKR\n",
      "Symbol:: BALL\n",
      "Symbol:: BAC\n",
      "Symbol:: BBWI\n",
      "Symbol:: BAX\n",
      "Symbol:: BDX\n",
      "Symbol:: WRB\n",
      "Symbol:: BRK.B\n",
      "Symbol:: BBY\n",
      "Symbol:: BIO\n",
      "Symbol:: TECH\n",
      "Symbol:: BIIB\n",
      "Symbol:: BLK\n",
      "Symbol:: BK\n",
      "Symbol:: BA\n",
      "Symbol:: BKNG\n",
      "Symbol:: BWA\n",
      "Symbol:: BXP\n",
      "Symbol:: BSX\n",
      "Symbol:: BMY\n",
      "Symbol:: AVGO\n",
      "Symbol:: BR\n",
      "Symbol:: BRO\n",
      "Symbol:: BF.B\n",
      "Symbol:: CHRW\n",
      "Symbol:: CDNS\n",
      "Symbol:: CZR\n",
      "Symbol:: CPT\n",
      "Symbol:: CPB\n",
      "Symbol:: COF\n",
      "Symbol:: CAH\n",
      "Symbol:: KMX\n",
      "Symbol:: CCL\n",
      "Symbol:: CARR\n",
      "Symbol:: CTLT\n",
      "Symbol:: CAT\n",
      "Symbol:: CBOE\n",
      "Symbol:: CBRE\n",
      "Symbol:: CDW\n",
      "Symbol:: CE\n",
      "Symbol:: CNC\n",
      "Symbol:: CNP\n",
      "Symbol:: CDAY\n",
      "Symbol:: CF\n",
      "Symbol:: CRL\n",
      "Symbol:: SCHW\n",
      "Symbol:: CHTR\n",
      "Symbol:: CVX\n",
      "Symbol:: CMG\n",
      "Symbol:: CB\n",
      "Symbol:: CHD\n",
      "Symbol:: CI\n",
      "Symbol:: CINF\n",
      "Symbol:: CTAS\n",
      "Symbol:: CSCO\n",
      "Symbol:: C\n",
      "Symbol:: CFG\n",
      "Symbol:: CLX\n",
      "Symbol:: CME\n",
      "Symbol:: CMS\n",
      "Symbol:: KO\n",
      "Symbol:: CTSH\n",
      "Symbol:: CL\n",
      "Symbol:: CMCSA\n",
      "Symbol:: CMA\n",
      "Symbol:: CAG\n",
      "Symbol:: COP\n",
      "Symbol:: ED\n",
      "Symbol:: STZ\n",
      "Symbol:: CEG\n",
      "Symbol:: COO\n",
      "Symbol:: CPRT\n",
      "Symbol:: GLW\n",
      "Symbol:: CTVA\n",
      "Symbol:: CSGP\n",
      "Symbol:: COST\n",
      "Symbol:: CTRA\n",
      "Symbol:: CCI\n",
      "Symbol:: CSX\n",
      "Symbol:: CMI\n",
      "Symbol:: CVS\n",
      "Symbol:: DHI\n",
      "Symbol:: DHR\n",
      "Symbol:: DRI\n",
      "Symbol:: DVA\n",
      "Symbol:: DE\n",
      "Symbol:: DAL\n",
      "Symbol:: XRAY\n",
      "Symbol:: DVN\n",
      "Symbol:: DXCM\n",
      "Symbol:: FANG\n",
      "Symbol:: DLR\n",
      "Symbol:: DFS\n",
      "Symbol:: DISH\n",
      "Symbol:: DIS\n",
      "Symbol:: DG\n",
      "Symbol:: DLTR\n",
      "Symbol:: D\n",
      "Symbol:: DPZ\n",
      "Symbol:: DOV\n",
      "Symbol:: DOW\n",
      "Symbol:: DTE\n",
      "Symbol:: DUK\n",
      "Symbol:: DD\n",
      "Symbol:: DXC\n",
      "Symbol:: EMN\n",
      "Symbol:: ETN\n",
      "Symbol:: EBAY\n",
      "Symbol:: ECL\n",
      "Symbol:: EIX\n",
      "Symbol:: EW\n",
      "Symbol:: EA\n",
      "Symbol:: ELV\n",
      "Symbol:: LLY\n",
      "Symbol:: EMR\n",
      "Symbol:: ENPH\n",
      "Symbol:: ETR\n",
      "Symbol:: EOG\n",
      "Symbol:: EPAM\n",
      "Symbol:: EQT\n",
      "Symbol:: EFX\n",
      "Symbol:: EQIX\n",
      "Symbol:: EQR\n",
      "Symbol:: ESS\n",
      "Symbol:: EL\n",
      "Symbol:: ETSY\n",
      "Symbol:: RE\n",
      "Symbol:: EVRG\n",
      "Symbol:: ES\n",
      "Symbol:: EXC\n",
      "Symbol:: EXPE\n",
      "Symbol:: EXPD\n",
      "Symbol:: EXR\n",
      "Symbol:: XOM\n",
      "Symbol:: FFIV\n",
      "Symbol:: FDS\n",
      "Symbol:: FAST\n",
      "Symbol:: FRT\n",
      "Symbol:: FDX\n",
      "Symbol:: FITB\n",
      "Symbol:: FRC\n",
      "Symbol:: FSLR\n",
      "Symbol:: FE\n",
      "Symbol:: FIS\n",
      "Symbol:: FISV\n",
      "Symbol:: FLT\n",
      "Symbol:: FMC\n",
      "Symbol:: F\n",
      "Symbol:: FTNT\n",
      "Symbol:: FTV\n",
      "Symbol:: FOXA\n",
      "Symbol:: FOX\n",
      "Symbol:: BEN\n",
      "Symbol:: FCX\n",
      "Symbol:: GRMN\n",
      "Symbol:: IT\n",
      "Symbol:: GEHC\n",
      "Symbol:: GEN\n",
      "Symbol:: GNRC\n",
      "Symbol:: GD\n",
      "Symbol:: GE\n",
      "Symbol:: GIS\n",
      "Symbol:: GM\n",
      "Symbol:: GPC\n",
      "Symbol:: GILD\n",
      "Symbol:: GL\n",
      "Symbol:: GPN\n",
      "Symbol:: GS\n",
      "Symbol:: HAL\n",
      "Symbol:: HIG\n",
      "Symbol:: HAS\n",
      "Symbol:: HCA\n",
      "Symbol:: PEAK\n",
      "Symbol:: HSIC\n",
      "Symbol:: HSY\n",
      "Symbol:: HES\n",
      "Symbol:: HPE\n",
      "Symbol:: HLT\n",
      "Symbol:: HOLX\n",
      "Symbol:: HD\n",
      "Symbol:: HON\n",
      "Symbol:: HRL\n",
      "Symbol:: HST\n",
      "Symbol:: HWM\n",
      "Symbol:: HPQ\n",
      "Symbol:: HUM\n",
      "Symbol:: HBAN\n",
      "Symbol:: HII\n",
      "Symbol:: IBM\n",
      "Symbol:: IEX\n",
      "Symbol:: IDXX\n",
      "Symbol:: ITW\n",
      "Symbol:: ILMN\n",
      "Symbol:: INCY\n",
      "Symbol:: IR\n",
      "Symbol:: INTC\n",
      "Symbol:: ICE\n",
      "Symbol:: IP\n",
      "Symbol:: IPG\n",
      "Symbol:: IFF\n",
      "Symbol:: INTU\n",
      "Symbol:: ISRG\n",
      "Symbol:: IVZ\n",
      "Symbol:: INVH\n",
      "Symbol:: IQV\n",
      "Symbol:: IRM\n",
      "Symbol:: JBHT\n",
      "Symbol:: JKHY\n",
      "Symbol:: J\n",
      "Symbol:: JNJ\n",
      "Symbol:: JCI\n",
      "Symbol:: JPM\n",
      "Symbol:: JNPR\n",
      "Symbol:: K\n",
      "Symbol:: KDP\n",
      "Symbol:: KEY\n",
      "Symbol:: KEYS\n",
      "Symbol:: KMB\n",
      "Symbol:: KIM\n",
      "Symbol:: KMI\n",
      "Symbol:: KLAC\n",
      "Symbol:: KHC\n",
      "Symbol:: KR\n",
      "Symbol:: LHX\n",
      "Symbol:: LH\n",
      "Symbol:: LRCX\n",
      "Symbol:: LW\n",
      "Symbol:: LVS\n",
      "Symbol:: LDOS\n",
      "Symbol:: LEN\n",
      "Symbol:: LNC\n",
      "Symbol:: LIN\n",
      "Symbol:: LYV\n",
      "Symbol:: LKQ\n",
      "Symbol:: LMT\n",
      "Symbol:: L\n",
      "Symbol:: LOW\n",
      "Symbol:: LUMN\n",
      "Symbol:: LYB\n",
      "Symbol:: MTB\n",
      "Symbol:: MRO\n",
      "Symbol:: MPC\n",
      "Symbol:: MKTX\n",
      "Symbol:: MAR\n",
      "Symbol:: MMC\n",
      "Symbol:: MLM\n",
      "Symbol:: MAS\n",
      "Symbol:: MA\n",
      "Symbol:: MTCH\n",
      "Symbol:: MKC\n",
      "Symbol:: MCD\n",
      "Symbol:: MCK\n",
      "Symbol:: MDT\n",
      "Symbol:: MRK\n",
      "Symbol:: META\n",
      "Symbol:: MET\n",
      "Symbol:: MTD\n",
      "Symbol:: MGM\n",
      "Symbol:: MCHP\n",
      "Symbol:: MU\n",
      "Symbol:: MSFT\n",
      "Symbol:: MAA\n",
      "Symbol:: MRNA\n",
      "Symbol:: MHK\n",
      "Symbol:: MOH\n",
      "Symbol:: TAP\n",
      "Symbol:: MDLZ\n",
      "Symbol:: MPWR\n",
      "Symbol:: MNST\n",
      "Symbol:: MCO\n",
      "Symbol:: MS\n",
      "Symbol:: MOS\n",
      "Symbol:: MSI\n",
      "Symbol:: MSCI\n",
      "Symbol:: NDAQ\n",
      "Symbol:: NTAP\n",
      "Symbol:: NFLX\n",
      "Symbol:: NWL\n",
      "Symbol:: NEM\n",
      "Symbol:: NWSA\n",
      "Symbol:: NWS\n",
      "Symbol:: NEE\n",
      "Symbol:: NKE\n",
      "Symbol:: NI\n",
      "Symbol:: NDSN\n",
      "Symbol:: NSC\n",
      "Symbol:: NTRS\n",
      "Symbol:: NOC\n",
      "Symbol:: NCLH\n",
      "Symbol:: NRG\n",
      "Symbol:: NUE\n",
      "Symbol:: NVDA\n",
      "Symbol:: NVR\n",
      "Symbol:: NXPI\n",
      "Symbol:: ORLY\n",
      "Symbol:: OXY\n",
      "Symbol:: ODFL\n",
      "Symbol:: OMC\n",
      "Symbol:: ON\n",
      "Symbol:: OKE\n",
      "Symbol:: ORCL\n",
      "Symbol:: OGN\n",
      "Symbol:: OTIS\n",
      "Symbol:: PCAR\n",
      "Symbol:: PKG\n",
      "Symbol:: PARA\n",
      "Symbol:: PH\n",
      "Symbol:: PAYX\n",
      "Symbol:: PAYC\n",
      "Symbol:: PYPL\n",
      "Symbol:: PNR\n",
      "Symbol:: PEP\n",
      "Symbol:: PKI\n",
      "Symbol:: PFE\n",
      "Symbol:: PCG\n",
      "Symbol:: PM\n",
      "Symbol:: PSX\n",
      "Symbol:: PNW\n",
      "Symbol:: PXD\n",
      "Symbol:: PNC\n",
      "Symbol:: POOL\n",
      "Symbol:: PPG\n",
      "Symbol:: PPL\n",
      "Symbol:: PFG\n",
      "Symbol:: PG\n",
      "Symbol:: PGR\n",
      "Symbol:: PLD\n",
      "Symbol:: PRU\n",
      "Symbol:: PEG\n",
      "Symbol:: PTC\n",
      "Symbol:: PSA\n",
      "Symbol:: PHM\n",
      "Symbol:: QRVO\n",
      "Symbol:: PWR\n",
      "Symbol:: QCOM\n",
      "Symbol:: DGX\n",
      "Symbol:: RL\n",
      "Symbol:: RJF\n",
      "Symbol:: RTX\n",
      "Symbol:: O\n",
      "Symbol:: REG\n",
      "Symbol:: REGN\n",
      "Symbol:: RF\n",
      "Symbol:: RSG\n",
      "Symbol:: RMD\n",
      "Symbol:: RHI\n",
      "Symbol:: ROK\n",
      "Symbol:: ROL\n",
      "Symbol:: ROP\n",
      "Symbol:: ROST\n",
      "Symbol:: RCL\n",
      "Symbol:: SPGI\n",
      "Symbol:: CRM\n",
      "Symbol:: SBAC\n",
      "Symbol:: SLB\n",
      "Symbol:: STX\n",
      "Symbol:: SEE\n",
      "Symbol:: SRE\n",
      "Symbol:: NOW\n",
      "Symbol:: SHW\n",
      "Symbol:: SBNY\n",
      "Symbol:: SPG\n",
      "Symbol:: SWKS\n",
      "Symbol:: SJM\n",
      "Symbol:: SNA\n",
      "Symbol:: SEDG\n",
      "Symbol:: SO\n",
      "Symbol:: LUV\n",
      "Symbol:: SWK\n",
      "Symbol:: SBUX\n",
      "Symbol:: STT\n",
      "Symbol:: STLD\n",
      "Symbol:: STE\n",
      "Symbol:: SYK\n",
      "Symbol:: SIVB\n",
      "Symbol:: SYF\n",
      "Symbol:: SNPS\n",
      "Symbol:: SYY\n",
      "Symbol:: TMUS\n",
      "Symbol:: TROW\n",
      "Symbol:: TTWO\n",
      "Symbol:: TPR\n",
      "Symbol:: TRGP\n",
      "Symbol:: TGT\n",
      "Symbol:: TEL\n",
      "Symbol:: TDY\n",
      "Symbol:: TFX\n",
      "Symbol:: TER\n",
      "Symbol:: TSLA\n",
      "Symbol:: TXN\n",
      "Symbol:: TXT\n",
      "Symbol:: TMO\n",
      "Symbol:: TJX\n",
      "Symbol:: TSCO\n",
      "Symbol:: TT\n",
      "Symbol:: TDG\n",
      "Symbol:: TRV\n",
      "Symbol:: TRMB\n",
      "Symbol:: TFC\n",
      "Symbol:: TYL\n",
      "Symbol:: TSN\n",
      "Symbol:: USB\n",
      "Symbol:: UDR\n",
      "Symbol:: ULTA\n",
      "Symbol:: UNP\n",
      "Symbol:: UAL\n",
      "Symbol:: UPS\n",
      "Symbol:: URI\n",
      "Symbol:: UNH\n",
      "Symbol:: UHS\n",
      "Symbol:: VLO\n",
      "Symbol:: VTR\n",
      "Symbol:: VRSN\n",
      "Symbol:: VRSK\n",
      "Symbol:: VZ\n",
      "Symbol:: VRTX\n",
      "Symbol:: VFC\n",
      "Symbol:: VTRS\n",
      "Symbol:: VICI\n",
      "Symbol:: V\n",
      "Symbol:: VMC\n",
      "Symbol:: WAB\n",
      "Symbol:: WBA\n",
      "Symbol:: WMT\n",
      "Symbol:: WBD\n",
      "Symbol:: WM\n",
      "Symbol:: WAT\n",
      "Symbol:: WEC\n",
      "Symbol:: WFC\n",
      "Symbol:: WELL\n",
      "Symbol:: WST\n",
      "Symbol:: WDC\n",
      "Symbol:: WRK\n",
      "Symbol:: WY\n",
      "Symbol:: WHR\n",
      "Symbol:: WMB\n",
      "Symbol:: WTW\n",
      "Symbol:: GWW\n",
      "Symbol:: WYNN\n",
      "Symbol:: XEL\n",
      "Symbol:: XYL\n",
      "Symbol:: YUM\n",
      "Symbol:: ZBRA\n",
      "Symbol:: ZBH\n",
      "Symbol:: ZION\n",
      "Symbol:: ZTS\n"
     ]
    },
    {
     "ename": "ImportError",
     "evalue": "Missing optional dependency 'fsspec'.  Use pip or conda to install fsspec.",
     "output_type": "error",
     "traceback": [
      "\u001b[1;31m---------------------------------------------------------------------------\u001b[0m",
      "\u001b[1;31mModuleNotFoundError\u001b[0m                       Traceback (most recent call last)",
      "File \u001b[1;32m~\\Srinivas Shanmuga G\\E-learning\\Python\\anaconda3\\envs\\web_scrap\\lib\\site-packages\\pandas\\compat\\_optional.py:138\u001b[0m, in \u001b[0;36mimport_optional_dependency\u001b[1;34m(name, extra, errors, min_version)\u001b[0m\n\u001b[0;32m    137\u001b[0m \u001b[38;5;28;01mtry\u001b[39;00m:\n\u001b[1;32m--> 138\u001b[0m     module \u001b[38;5;241m=\u001b[39m \u001b[43mimportlib\u001b[49m\u001b[38;5;241;43m.\u001b[39;49m\u001b[43mimport_module\u001b[49m\u001b[43m(\u001b[49m\u001b[43mname\u001b[49m\u001b[43m)\u001b[49m\n\u001b[0;32m    139\u001b[0m \u001b[38;5;28;01mexcept\u001b[39;00m \u001b[38;5;167;01mImportError\u001b[39;00m:\n",
      "File \u001b[1;32m~\\Srinivas Shanmuga G\\E-learning\\Python\\anaconda3\\envs\\web_scrap\\lib\\importlib\\__init__.py:127\u001b[0m, in \u001b[0;36mimport_module\u001b[1;34m(name, package)\u001b[0m\n\u001b[0;32m    126\u001b[0m         level \u001b[38;5;241m+\u001b[39m\u001b[38;5;241m=\u001b[39m \u001b[38;5;241m1\u001b[39m\n\u001b[1;32m--> 127\u001b[0m \u001b[38;5;28;01mreturn\u001b[39;00m \u001b[43m_bootstrap\u001b[49m\u001b[38;5;241;43m.\u001b[39;49m\u001b[43m_gcd_import\u001b[49m\u001b[43m(\u001b[49m\u001b[43mname\u001b[49m\u001b[43m[\u001b[49m\u001b[43mlevel\u001b[49m\u001b[43m:\u001b[49m\u001b[43m]\u001b[49m\u001b[43m,\u001b[49m\u001b[43m \u001b[49m\u001b[43mpackage\u001b[49m\u001b[43m,\u001b[49m\u001b[43m \u001b[49m\u001b[43mlevel\u001b[49m\u001b[43m)\u001b[49m\n",
      "File \u001b[1;32m<frozen importlib._bootstrap>:1030\u001b[0m, in \u001b[0;36m_gcd_import\u001b[1;34m(name, package, level)\u001b[0m\n",
      "File \u001b[1;32m<frozen importlib._bootstrap>:1007\u001b[0m, in \u001b[0;36m_find_and_load\u001b[1;34m(name, import_)\u001b[0m\n",
      "File \u001b[1;32m<frozen importlib._bootstrap>:984\u001b[0m, in \u001b[0;36m_find_and_load_unlocked\u001b[1;34m(name, import_)\u001b[0m\n",
      "\u001b[1;31mModuleNotFoundError\u001b[0m: No module named 'fsspec'",
      "\nDuring handling of the above exception, another exception occurred:\n",
      "\u001b[1;31mImportError\u001b[0m                               Traceback (most recent call last)",
      "Cell \u001b[1;32mIn[134], line 15\u001b[0m\n\u001b[0;32m     12\u001b[0m         data[\u001b[38;5;124m'\u001b[39m\u001b[38;5;124mValues\u001b[39m\u001b[38;5;124m'\u001b[39m] \u001b[38;5;241m+\u001b[39m\u001b[38;5;241m=\u001b[39m values\n\u001b[0;32m     14\u001b[0m df_tikker \u001b[38;5;241m=\u001b[39m pd\u001b[38;5;241m.\u001b[39mDataFrame(data)\n\u001b[1;32m---> 15\u001b[0m \u001b[43mdf_tikker\u001b[49m\u001b[38;5;241;43m.\u001b[39;49m\u001b[43mto_csv\u001b[49m\u001b[43m(\u001b[49m\u001b[38;5;124;43m'\u001b[39;49m\u001b[38;5;124;43mC://Users//91956//Srinivas Shanmuga G//E-learning//Python//Web-Scrapping-Project//tikker_info.csv\u001b[39;49m\u001b[38;5;124;43m'\u001b[39;49m\u001b[43m)\u001b[49m\n",
      "File \u001b[1;32m~\\Srinivas Shanmuga G\\E-learning\\Python\\anaconda3\\envs\\web_scrap\\lib\\site-packages\\pandas\\core\\generic.py:3551\u001b[0m, in \u001b[0;36mNDFrame.to_csv\u001b[1;34m(self, path_or_buf, sep, na_rep, float_format, columns, header, index, index_label, mode, encoding, compression, quoting, quotechar, line_terminator, chunksize, date_format, doublequote, escapechar, decimal, errors, storage_options)\u001b[0m\n\u001b[0;32m   3540\u001b[0m df \u001b[38;5;241m=\u001b[39m \u001b[38;5;28mself\u001b[39m \u001b[38;5;28;01mif\u001b[39;00m \u001b[38;5;28misinstance\u001b[39m(\u001b[38;5;28mself\u001b[39m, ABCDataFrame) \u001b[38;5;28;01melse\u001b[39;00m \u001b[38;5;28mself\u001b[39m\u001b[38;5;241m.\u001b[39mto_frame()\n\u001b[0;32m   3542\u001b[0m formatter \u001b[38;5;241m=\u001b[39m DataFrameFormatter(\n\u001b[0;32m   3543\u001b[0m     frame\u001b[38;5;241m=\u001b[39mdf,\n\u001b[0;32m   3544\u001b[0m     header\u001b[38;5;241m=\u001b[39mheader,\n\u001b[1;32m   (...)\u001b[0m\n\u001b[0;32m   3548\u001b[0m     decimal\u001b[38;5;241m=\u001b[39mdecimal,\n\u001b[0;32m   3549\u001b[0m )\n\u001b[1;32m-> 3551\u001b[0m \u001b[38;5;28;01mreturn\u001b[39;00m \u001b[43mDataFrameRenderer\u001b[49m\u001b[43m(\u001b[49m\u001b[43mformatter\u001b[49m\u001b[43m)\u001b[49m\u001b[38;5;241;43m.\u001b[39;49m\u001b[43mto_csv\u001b[49m\u001b[43m(\u001b[49m\n\u001b[0;32m   3552\u001b[0m \u001b[43m    \u001b[49m\u001b[43mpath_or_buf\u001b[49m\u001b[43m,\u001b[49m\n\u001b[0;32m   3553\u001b[0m \u001b[43m    \u001b[49m\u001b[43mline_terminator\u001b[49m\u001b[38;5;241;43m=\u001b[39;49m\u001b[43mline_terminator\u001b[49m\u001b[43m,\u001b[49m\n\u001b[0;32m   3554\u001b[0m \u001b[43m    \u001b[49m\u001b[43msep\u001b[49m\u001b[38;5;241;43m=\u001b[39;49m\u001b[43msep\u001b[49m\u001b[43m,\u001b[49m\n\u001b[0;32m   3555\u001b[0m \u001b[43m    \u001b[49m\u001b[43mencoding\u001b[49m\u001b[38;5;241;43m=\u001b[39;49m\u001b[43mencoding\u001b[49m\u001b[43m,\u001b[49m\n\u001b[0;32m   3556\u001b[0m \u001b[43m    \u001b[49m\u001b[43merrors\u001b[49m\u001b[38;5;241;43m=\u001b[39;49m\u001b[43merrors\u001b[49m\u001b[43m,\u001b[49m\n\u001b[0;32m   3557\u001b[0m \u001b[43m    \u001b[49m\u001b[43mcompression\u001b[49m\u001b[38;5;241;43m=\u001b[39;49m\u001b[43mcompression\u001b[49m\u001b[43m,\u001b[49m\n\u001b[0;32m   3558\u001b[0m \u001b[43m    \u001b[49m\u001b[43mquoting\u001b[49m\u001b[38;5;241;43m=\u001b[39;49m\u001b[43mquoting\u001b[49m\u001b[43m,\u001b[49m\n\u001b[0;32m   3559\u001b[0m \u001b[43m    \u001b[49m\u001b[43mcolumns\u001b[49m\u001b[38;5;241;43m=\u001b[39;49m\u001b[43mcolumns\u001b[49m\u001b[43m,\u001b[49m\n\u001b[0;32m   3560\u001b[0m \u001b[43m    \u001b[49m\u001b[43mindex_label\u001b[49m\u001b[38;5;241;43m=\u001b[39;49m\u001b[43mindex_label\u001b[49m\u001b[43m,\u001b[49m\n\u001b[0;32m   3561\u001b[0m \u001b[43m    \u001b[49m\u001b[43mmode\u001b[49m\u001b[38;5;241;43m=\u001b[39;49m\u001b[43mmode\u001b[49m\u001b[43m,\u001b[49m\n\u001b[0;32m   3562\u001b[0m \u001b[43m    \u001b[49m\u001b[43mchunksize\u001b[49m\u001b[38;5;241;43m=\u001b[39;49m\u001b[43mchunksize\u001b[49m\u001b[43m,\u001b[49m\n\u001b[0;32m   3563\u001b[0m \u001b[43m    \u001b[49m\u001b[43mquotechar\u001b[49m\u001b[38;5;241;43m=\u001b[39;49m\u001b[43mquotechar\u001b[49m\u001b[43m,\u001b[49m\n\u001b[0;32m   3564\u001b[0m \u001b[43m    \u001b[49m\u001b[43mdate_format\u001b[49m\u001b[38;5;241;43m=\u001b[39;49m\u001b[43mdate_format\u001b[49m\u001b[43m,\u001b[49m\n\u001b[0;32m   3565\u001b[0m \u001b[43m    \u001b[49m\u001b[43mdoublequote\u001b[49m\u001b[38;5;241;43m=\u001b[39;49m\u001b[43mdoublequote\u001b[49m\u001b[43m,\u001b[49m\n\u001b[0;32m   3566\u001b[0m \u001b[43m    \u001b[49m\u001b[43mescapechar\u001b[49m\u001b[38;5;241;43m=\u001b[39;49m\u001b[43mescapechar\u001b[49m\u001b[43m,\u001b[49m\n\u001b[0;32m   3567\u001b[0m \u001b[43m    \u001b[49m\u001b[43mstorage_options\u001b[49m\u001b[38;5;241;43m=\u001b[39;49m\u001b[43mstorage_options\u001b[49m\u001b[43m,\u001b[49m\n\u001b[0;32m   3568\u001b[0m \u001b[43m\u001b[49m\u001b[43m)\u001b[49m\n",
      "File \u001b[1;32m~\\Srinivas Shanmuga G\\E-learning\\Python\\anaconda3\\envs\\web_scrap\\lib\\site-packages\\pandas\\io\\formats\\format.py:1180\u001b[0m, in \u001b[0;36mDataFrameRenderer.to_csv\u001b[1;34m(self, path_or_buf, encoding, sep, columns, index_label, mode, compression, quoting, quotechar, line_terminator, chunksize, date_format, doublequote, escapechar, errors, storage_options)\u001b[0m\n\u001b[0;32m   1159\u001b[0m     created_buffer \u001b[38;5;241m=\u001b[39m \u001b[38;5;28;01mFalse\u001b[39;00m\n\u001b[0;32m   1161\u001b[0m csv_formatter \u001b[38;5;241m=\u001b[39m CSVFormatter(\n\u001b[0;32m   1162\u001b[0m     path_or_buf\u001b[38;5;241m=\u001b[39mpath_or_buf,\n\u001b[0;32m   1163\u001b[0m     line_terminator\u001b[38;5;241m=\u001b[39mline_terminator,\n\u001b[1;32m   (...)\u001b[0m\n\u001b[0;32m   1178\u001b[0m     formatter\u001b[38;5;241m=\u001b[39m\u001b[38;5;28mself\u001b[39m\u001b[38;5;241m.\u001b[39mfmt,\n\u001b[0;32m   1179\u001b[0m )\n\u001b[1;32m-> 1180\u001b[0m \u001b[43mcsv_formatter\u001b[49m\u001b[38;5;241;43m.\u001b[39;49m\u001b[43msave\u001b[49m\u001b[43m(\u001b[49m\u001b[43m)\u001b[49m\n\u001b[0;32m   1182\u001b[0m \u001b[38;5;28;01mif\u001b[39;00m created_buffer:\n\u001b[0;32m   1183\u001b[0m     \u001b[38;5;28;01massert\u001b[39;00m \u001b[38;5;28misinstance\u001b[39m(path_or_buf, StringIO)\n",
      "File \u001b[1;32m~\\Srinivas Shanmuga G\\E-learning\\Python\\anaconda3\\envs\\web_scrap\\lib\\site-packages\\pandas\\io\\formats\\csvs.py:241\u001b[0m, in \u001b[0;36mCSVFormatter.save\u001b[1;34m(self)\u001b[0m\n\u001b[0;32m    237\u001b[0m \u001b[38;5;250m\u001b[39m\u001b[38;5;124;03m\"\"\"\u001b[39;00m\n\u001b[0;32m    238\u001b[0m \u001b[38;5;124;03mCreate the writer & save.\u001b[39;00m\n\u001b[0;32m    239\u001b[0m \u001b[38;5;124;03m\"\"\"\u001b[39;00m\n\u001b[0;32m    240\u001b[0m \u001b[38;5;66;03m# apply compression and byte/text conversion\u001b[39;00m\n\u001b[1;32m--> 241\u001b[0m \u001b[38;5;28;01mwith\u001b[39;00m \u001b[43mget_handle\u001b[49m\u001b[43m(\u001b[49m\n\u001b[0;32m    242\u001b[0m \u001b[43m    \u001b[49m\u001b[38;5;28;43mself\u001b[39;49m\u001b[38;5;241;43m.\u001b[39;49m\u001b[43mfilepath_or_buffer\u001b[49m\u001b[43m,\u001b[49m\n\u001b[0;32m    243\u001b[0m \u001b[43m    \u001b[49m\u001b[38;5;28;43mself\u001b[39;49m\u001b[38;5;241;43m.\u001b[39;49m\u001b[43mmode\u001b[49m\u001b[43m,\u001b[49m\n\u001b[0;32m    244\u001b[0m \u001b[43m    \u001b[49m\u001b[43mencoding\u001b[49m\u001b[38;5;241;43m=\u001b[39;49m\u001b[38;5;28;43mself\u001b[39;49m\u001b[38;5;241;43m.\u001b[39;49m\u001b[43mencoding\u001b[49m\u001b[43m,\u001b[49m\n\u001b[0;32m    245\u001b[0m \u001b[43m    \u001b[49m\u001b[43merrors\u001b[49m\u001b[38;5;241;43m=\u001b[39;49m\u001b[38;5;28;43mself\u001b[39;49m\u001b[38;5;241;43m.\u001b[39;49m\u001b[43merrors\u001b[49m\u001b[43m,\u001b[49m\n\u001b[0;32m    246\u001b[0m \u001b[43m    \u001b[49m\u001b[43mcompression\u001b[49m\u001b[38;5;241;43m=\u001b[39;49m\u001b[38;5;28;43mself\u001b[39;49m\u001b[38;5;241;43m.\u001b[39;49m\u001b[43mcompression\u001b[49m\u001b[43m,\u001b[49m\n\u001b[0;32m    247\u001b[0m \u001b[43m    \u001b[49m\u001b[43mstorage_options\u001b[49m\u001b[38;5;241;43m=\u001b[39;49m\u001b[38;5;28;43mself\u001b[39;49m\u001b[38;5;241;43m.\u001b[39;49m\u001b[43mstorage_options\u001b[49m\u001b[43m,\u001b[49m\n\u001b[0;32m    248\u001b[0m \u001b[43m\u001b[49m\u001b[43m)\u001b[49m \u001b[38;5;28;01mas\u001b[39;00m handles:\n\u001b[0;32m    249\u001b[0m \n\u001b[0;32m    250\u001b[0m     \u001b[38;5;66;03m# Note: self.encoding is irrelevant here\u001b[39;00m\n\u001b[0;32m    251\u001b[0m     \u001b[38;5;28mself\u001b[39m\u001b[38;5;241m.\u001b[39mwriter \u001b[38;5;241m=\u001b[39m csvlib\u001b[38;5;241m.\u001b[39mwriter(\n\u001b[0;32m    252\u001b[0m         handles\u001b[38;5;241m.\u001b[39mhandle,\n\u001b[0;32m    253\u001b[0m         lineterminator\u001b[38;5;241m=\u001b[39m\u001b[38;5;28mself\u001b[39m\u001b[38;5;241m.\u001b[39mline_terminator,\n\u001b[1;32m   (...)\u001b[0m\n\u001b[0;32m    258\u001b[0m         quotechar\u001b[38;5;241m=\u001b[39m\u001b[38;5;28mself\u001b[39m\u001b[38;5;241m.\u001b[39mquotechar,\n\u001b[0;32m    259\u001b[0m     )\n\u001b[0;32m    261\u001b[0m     \u001b[38;5;28mself\u001b[39m\u001b[38;5;241m.\u001b[39m_save()\n",
      "File \u001b[1;32m~\\Srinivas Shanmuga G\\E-learning\\Python\\anaconda3\\envs\\web_scrap\\lib\\site-packages\\pandas\\io\\common.py:670\u001b[0m, in \u001b[0;36mget_handle\u001b[1;34m(path_or_buf, mode, encoding, compression, memory_map, is_text, errors, storage_options)\u001b[0m\n\u001b[0;32m    667\u001b[0m     codecs\u001b[38;5;241m.\u001b[39mlookup_error(errors)\n\u001b[0;32m    669\u001b[0m \u001b[38;5;66;03m# open URLs\u001b[39;00m\n\u001b[1;32m--> 670\u001b[0m ioargs \u001b[38;5;241m=\u001b[39m \u001b[43m_get_filepath_or_buffer\u001b[49m\u001b[43m(\u001b[49m\n\u001b[0;32m    671\u001b[0m \u001b[43m    \u001b[49m\u001b[43mpath_or_buf\u001b[49m\u001b[43m,\u001b[49m\n\u001b[0;32m    672\u001b[0m \u001b[43m    \u001b[49m\u001b[43mencoding\u001b[49m\u001b[38;5;241;43m=\u001b[39;49m\u001b[43mencoding\u001b[49m\u001b[43m,\u001b[49m\n\u001b[0;32m    673\u001b[0m \u001b[43m    \u001b[49m\u001b[43mcompression\u001b[49m\u001b[38;5;241;43m=\u001b[39;49m\u001b[43mcompression\u001b[49m\u001b[43m,\u001b[49m\n\u001b[0;32m    674\u001b[0m \u001b[43m    \u001b[49m\u001b[43mmode\u001b[49m\u001b[38;5;241;43m=\u001b[39;49m\u001b[43mmode\u001b[49m\u001b[43m,\u001b[49m\n\u001b[0;32m    675\u001b[0m \u001b[43m    \u001b[49m\u001b[43mstorage_options\u001b[49m\u001b[38;5;241;43m=\u001b[39;49m\u001b[43mstorage_options\u001b[49m\u001b[43m,\u001b[49m\n\u001b[0;32m    676\u001b[0m \u001b[43m\u001b[49m\u001b[43m)\u001b[49m\n\u001b[0;32m    678\u001b[0m handle \u001b[38;5;241m=\u001b[39m ioargs\u001b[38;5;241m.\u001b[39mfilepath_or_buffer\n\u001b[0;32m    679\u001b[0m handles: \u001b[38;5;28mlist\u001b[39m[BaseBuffer]\n",
      "File \u001b[1;32m~\\Srinivas Shanmuga G\\E-learning\\Python\\anaconda3\\envs\\web_scrap\\lib\\site-packages\\pandas\\io\\common.py:364\u001b[0m, in \u001b[0;36m_get_filepath_or_buffer\u001b[1;34m(filepath_or_buffer, encoding, compression, mode, storage_options)\u001b[0m\n\u001b[0;32m    362\u001b[0m \u001b[38;5;28;01mif\u001b[39;00m filepath_or_buffer\u001b[38;5;241m.\u001b[39mstartswith(\u001b[38;5;124m\"\u001b[39m\u001b[38;5;124ms3n://\u001b[39m\u001b[38;5;124m\"\u001b[39m):\n\u001b[0;32m    363\u001b[0m     filepath_or_buffer \u001b[38;5;241m=\u001b[39m filepath_or_buffer\u001b[38;5;241m.\u001b[39mreplace(\u001b[38;5;124m\"\u001b[39m\u001b[38;5;124ms3n://\u001b[39m\u001b[38;5;124m\"\u001b[39m, \u001b[38;5;124m\"\u001b[39m\u001b[38;5;124ms3://\u001b[39m\u001b[38;5;124m\"\u001b[39m)\n\u001b[1;32m--> 364\u001b[0m fsspec \u001b[38;5;241m=\u001b[39m \u001b[43mimport_optional_dependency\u001b[49m\u001b[43m(\u001b[49m\u001b[38;5;124;43m\"\u001b[39;49m\u001b[38;5;124;43mfsspec\u001b[39;49m\u001b[38;5;124;43m\"\u001b[39;49m\u001b[43m)\u001b[49m\n\u001b[0;32m    366\u001b[0m \u001b[38;5;66;03m# If botocore is installed we fallback to reading with anon=True\u001b[39;00m\n\u001b[0;32m    367\u001b[0m \u001b[38;5;66;03m# to allow reads from public buckets\u001b[39;00m\n\u001b[0;32m    368\u001b[0m err_types_to_retry_with_anon: \u001b[38;5;28mlist\u001b[39m[Any] \u001b[38;5;241m=\u001b[39m []\n",
      "File \u001b[1;32m~\\Srinivas Shanmuga G\\E-learning\\Python\\anaconda3\\envs\\web_scrap\\lib\\site-packages\\pandas\\compat\\_optional.py:141\u001b[0m, in \u001b[0;36mimport_optional_dependency\u001b[1;34m(name, extra, errors, min_version)\u001b[0m\n\u001b[0;32m    139\u001b[0m \u001b[38;5;28;01mexcept\u001b[39;00m \u001b[38;5;167;01mImportError\u001b[39;00m:\n\u001b[0;32m    140\u001b[0m     \u001b[38;5;28;01mif\u001b[39;00m errors \u001b[38;5;241m==\u001b[39m \u001b[38;5;124m\"\u001b[39m\u001b[38;5;124mraise\u001b[39m\u001b[38;5;124m\"\u001b[39m:\n\u001b[1;32m--> 141\u001b[0m         \u001b[38;5;28;01mraise\u001b[39;00m \u001b[38;5;167;01mImportError\u001b[39;00m(msg)\n\u001b[0;32m    142\u001b[0m     \u001b[38;5;28;01melse\u001b[39;00m:\n\u001b[0;32m    143\u001b[0m         \u001b[38;5;28;01mreturn\u001b[39;00m \u001b[38;5;28;01mNone\u001b[39;00m\n",
      "\u001b[1;31mImportError\u001b[0m: Missing optional dependency 'fsspec'.  Use pip or conda to install fsspec."
     ]
    }
   ],
   "source": [
    "sp500_symbols = gettikkersymbols()\n",
    "\n",
    "data = {'Symbols':[],\n",
    "        'Metrics':[],\n",
    "        'Values': []}\n",
    "\n",
    "for symbol in sp500_symbols:\n",
    "    names,values = getstockinfo(symbol)\n",
    "    for i in range(len(names)):\n",
    "        data['Symbols'] += [symbol] * len(names)\n",
    "        data['Metrics'] += names\n",
    "        data['Values'] += values\n",
    "\n",
    "df_tikker = pd.DataFrame(data)\n",
    "df_tikker.to_csv('C://Users//91956//Srinivas Shanmuga G//E-learning//Python//Web-Scrapping-Project//tikker_info.csv')"
   ]
  },
  {
   "cell_type": "code",
   "execution_count": 142,
   "id": "bf1fb3ca",
   "metadata": {},
   "outputs": [
    {
     "name": "stdout",
     "output_type": "stream",
     "text": [
      "[-1, '0', [1], 'x', True, 15]\n"
     ]
    }
   ],
   "source": [
    "L=[-1,'0',[1],'x',0,True,15,[]]\n",
    "print(list(filter(None, L)))"
   ]
  },
  {
   "cell_type": "code",
   "execution_count": 141,
   "id": "fd4fd661",
   "metadata": {},
   "outputs": [
    {
     "name": "stdout",
     "output_type": "stream",
     "text": [
      "[43, 203]\n"
     ]
    }
   ],
   "source": [
    "list1 = [30,-33,43,203,45,18]\n",
    "\n",
    "print(list(filter(lambda n:(n % 10 == 3), list1)))"
   ]
  },
  {
   "cell_type": "code",
   "execution_count": 148,
   "id": "34a2ce0a",
   "metadata": {},
   "outputs": [
    {
     "name": "stdout",
     "output_type": "stream",
     "text": [
      "[1, 2, 3, 4]\n"
     ]
    }
   ],
   "source": [
    "li = [1,2,3,4,5]\n",
    "print(li[0:4])"
   ]
  },
  {
   "cell_type": "code",
   "execution_count": null,
   "id": "7e263a5b",
   "metadata": {},
   "outputs": [],
   "source": []
  }
 ],
 "metadata": {
  "kernelspec": {
   "display_name": "Python [conda env:web_scrap]",
   "language": "python",
   "name": "conda-env-web_scrap-py"
  },
  "language_info": {
   "codemirror_mode": {
    "name": "ipython",
    "version": 3
   },
   "file_extension": ".py",
   "mimetype": "text/x-python",
   "name": "python",
   "nbconvert_exporter": "python",
   "pygments_lexer": "ipython3",
   "version": "3.9.15"
  }
 },
 "nbformat": 4,
 "nbformat_minor": 5
}
