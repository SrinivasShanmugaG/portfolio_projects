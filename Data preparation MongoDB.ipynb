{
 "cells": [
  {
   "cell_type": "code",
   "execution_count": 36,
   "id": "1f178e0a",
   "metadata": {},
   "outputs": [],
   "source": [
    "import numpy as np\n",
    "import pandas as pd\n",
    "import matplotlib.pyplot as plt\n",
    "import seaborn as sns\n",
    "import pymongo\n",
    "%matplotlib inline"
   ]
  },
  {
   "cell_type": "markdown",
   "id": "73ea5928",
   "metadata": {},
   "source": [
    "# Establishing connection & Creating Database"
   ]
  },
  {
   "cell_type": "code",
   "execution_count": 3,
   "id": "d7bf5463",
   "metadata": {},
   "outputs": [],
   "source": [
    "client = pymongo.MongoClient('localhost',27017)"
   ]
  },
  {
   "cell_type": "code",
   "execution_count": 4,
   "id": "ff9a1704",
   "metadata": {},
   "outputs": [],
   "source": [
    "db = client['Income-database']"
   ]
  },
  {
   "cell_type": "code",
   "execution_count": 5,
   "id": "baa5827f",
   "metadata": {},
   "outputs": [
    {
     "data": {
      "text/plain": [
       "Database(MongoClient(host=['localhost:27017'], document_class=dict, tz_aware=False, connect=True), 'Income-database')"
      ]
     },
     "execution_count": 5,
     "metadata": {},
     "output_type": "execute_result"
    }
   ],
   "source": [
    "db"
   ]
  },
  {
   "cell_type": "markdown",
   "id": "91ee3816",
   "metadata": {},
   "source": [
    "# Creating Collections"
   ]
  },
  {
   "cell_type": "code",
   "execution_count": 6,
   "id": "90d52afc",
   "metadata": {},
   "outputs": [],
   "source": [
    "collection = db['Income-collections']"
   ]
  },
  {
   "cell_type": "code",
   "execution_count": 7,
   "id": "6a192dfa",
   "metadata": {},
   "outputs": [
    {
     "name": "stderr",
     "output_type": "stream",
     "text": [
      "C:\\Users\\91956\\AppData\\Local\\Temp/ipykernel_27316/2497048341.py:1: DeprecationWarning: count is deprecated. Use estimated_document_count or count_documents instead. Please note that $where must be replaced by $expr, $near must be replaced by $geoWithin with $center, and $nearSphere must be replaced by $geoWithin with $centerSphere\n",
      "  collection.count()\n"
     ]
    },
    {
     "data": {
      "text/plain": [
       "0"
      ]
     },
     "execution_count": 7,
     "metadata": {},
     "output_type": "execute_result"
    }
   ],
   "source": [
    "collection.count()"
   ]
  },
  {
   "cell_type": "markdown",
   "id": "2aef2cb8",
   "metadata": {},
   "source": [
    "# Reading and Inserting data"
   ]
  },
  {
   "cell_type": "code",
   "execution_count": 8,
   "id": "24d0c888",
   "metadata": {},
   "outputs": [],
   "source": [
    "with open('Income_Header.txt') as f_in:\n",
    "    column_headers = f_in.readline()"
   ]
  },
  {
   "cell_type": "code",
   "execution_count": 9,
   "id": "5068b9be",
   "metadata": {},
   "outputs": [
    {
     "data": {
      "text/plain": [
       "'age,workclass,fnlwgt,education,education-num,marital-status,occupation,relationship,race,sex,capital-gain,capital-loss,hours-per-week,native-country,label'"
      ]
     },
     "execution_count": 9,
     "metadata": {},
     "output_type": "execute_result"
    }
   ],
   "source": [
    "column_headers"
   ]
  },
  {
   "cell_type": "code",
   "execution_count": 10,
   "id": "c4528f4f",
   "metadata": {},
   "outputs": [],
   "source": [
    "column_head_list = column_headers.split(',')"
   ]
  },
  {
   "cell_type": "code",
   "execution_count": 11,
   "id": "a8f47ad3",
   "metadata": {},
   "outputs": [
    {
     "data": {
      "text/plain": [
       "['age',\n",
       " 'workclass',\n",
       " 'fnlwgt',\n",
       " 'education',\n",
       " 'education-num',\n",
       " 'marital-status',\n",
       " 'occupation',\n",
       " 'relationship',\n",
       " 'race',\n",
       " 'sex',\n",
       " 'capital-gain',\n",
       " 'capital-loss',\n",
       " 'hours-per-week',\n",
       " 'native-country',\n",
       " 'label']"
      ]
     },
     "execution_count": 11,
     "metadata": {},
     "output_type": "execute_result"
    }
   ],
   "source": [
    "column_head_list"
   ]
  },
  {
   "cell_type": "code",
   "execution_count": 17,
   "id": "d0f4ee8e",
   "metadata": {},
   "outputs": [],
   "source": [
    "row_dict_list = list()"
   ]
  },
  {
   "cell_type": "code",
   "execution_count": 19,
   "id": "787aaf43",
   "metadata": {},
   "outputs": [],
   "source": [
    "# with open('Income.txt') as f_in:\n",
    "#     for line in f_in:\n",
    "#         row_list = line.rstrip('\\n').split(',')\n",
    "#         row_dict = dict(zip(column_head_list,row_list))\n",
    "#         row_dict_list.append(row_dict)\n",
    "#         collection.insert_one(row_dict)"
   ]
  },
  {
   "cell_type": "code",
   "execution_count": 12,
   "id": "8f183aa1",
   "metadata": {},
   "outputs": [],
   "source": [
    "# collection.count()"
   ]
  },
  {
   "cell_type": "code",
   "execution_count": 15,
   "id": "31522ec6",
   "metadata": {},
   "outputs": [],
   "source": [
    "# collection.delete_many({})"
   ]
  },
  {
   "cell_type": "markdown",
   "id": "b5302fa3",
   "metadata": {},
   "source": [
    "# Data Pre-Processing"
   ]
  },
  {
   "cell_type": "code",
   "execution_count": 16,
   "id": "eff84df5",
   "metadata": {},
   "outputs": [],
   "source": [
    "with open('Income.txt') as f_in:\n",
    "    for line in f_in:\n",
    "        row_list = line.rstrip('\\n').split(',')\n",
    "        row_dict = dict(zip(column_head_list,row_list))\n",
    "        try:\n",
    "            row_dict['age'] = int(row_dict['age'])\n",
    "            row_dict['hours-per-week'] = int(row_dict['hours-per-week'])\n",
    "            collection.insert_one(row_dict)\n",
    "        except:\n",
    "            pass"
   ]
  },
  {
   "cell_type": "code",
   "execution_count": 17,
   "id": "7774bd8e",
   "metadata": {},
   "outputs": [
    {
     "name": "stderr",
     "output_type": "stream",
     "text": [
      "C:\\Users\\91956\\AppData\\Local\\Temp/ipykernel_27316/2497048341.py:1: DeprecationWarning: count is deprecated. Use estimated_document_count or count_documents instead. Please note that $where must be replaced by $expr, $near must be replaced by $geoWithin with $center, and $nearSphere must be replaced by $geoWithin with $centerSphere\n",
      "  collection.count()\n"
     ]
    },
    {
     "data": {
      "text/plain": [
       "32561"
      ]
     },
     "execution_count": 17,
     "metadata": {},
     "output_type": "execute_result"
    }
   ],
   "source": [
    "collection.count()"
   ]
  },
  {
   "cell_type": "code",
   "execution_count": 18,
   "id": "7ca8ed91",
   "metadata": {},
   "outputs": [],
   "source": [
    "over_35 = collection.find({'age':{'$gt':35}})"
   ]
  },
  {
   "cell_type": "code",
   "execution_count": 19,
   "id": "0a338ef2",
   "metadata": {},
   "outputs": [
    {
     "data": {
      "text/plain": [
       "pymongo.cursor.Cursor"
      ]
     },
     "execution_count": 19,
     "metadata": {},
     "output_type": "execute_result"
    }
   ],
   "source": [
    "type(over_35)"
   ]
  },
  {
   "cell_type": "code",
   "execution_count": 20,
   "id": "9e7f6351",
   "metadata": {},
   "outputs": [
    {
     "data": {
      "text/plain": [
       "{'_id': ObjectId('65c29e353f585d18616c5104'),\n",
       " 'age': 39,\n",
       " 'workclass': ' State-gov',\n",
       " 'fnlwgt': ' 77516',\n",
       " 'education': ' Bachelors',\n",
       " 'education-num': ' 13',\n",
       " 'marital-status': ' Never-married',\n",
       " 'occupation': ' Adm-clerical',\n",
       " 'relationship': ' Not-in-family',\n",
       " 'race': ' White',\n",
       " 'sex': ' Male',\n",
       " 'capital-gain': ' 2174',\n",
       " 'capital-loss': ' 0',\n",
       " 'hours-per-week': 40,\n",
       " 'native-country': ' United-States',\n",
       " 'label': ' <=50K'}"
      ]
     },
     "execution_count": 20,
     "metadata": {},
     "output_type": "execute_result"
    }
   ],
   "source": [
    "over_35.next()"
   ]
  },
  {
   "cell_type": "code",
   "execution_count": 21,
   "id": "d472bcae",
   "metadata": {},
   "outputs": [
    {
     "name": "stderr",
     "output_type": "stream",
     "text": [
      "C:\\Users\\91956\\AppData\\Local\\Temp/ipykernel_27316/3686870910.py:1: DeprecationWarning: count is deprecated. Use Collection.count_documents instead.\n",
      "  over_35.count()\n"
     ]
    },
    {
     "data": {
      "text/plain": [
       "17636"
      ]
     },
     "execution_count": 21,
     "metadata": {},
     "output_type": "execute_result"
    }
   ],
   "source": [
    "over_35.count()"
   ]
  },
  {
   "cell_type": "code",
   "execution_count": 34,
   "id": "ae2b1816",
   "metadata": {},
   "outputs": [],
   "source": [
    "# import time\n",
    "# start = time.time()\n",
    "# agegt50 = collection.find({'age': {'$gt': 50}})\n",
    "# end = time.time()\n",
    "# print(end - start)"
   ]
  },
  {
   "cell_type": "code",
   "execution_count": 22,
   "id": "d6230f5b",
   "metadata": {},
   "outputs": [],
   "source": [
    "# age50.count()"
   ]
  },
  {
   "cell_type": "markdown",
   "id": "b7cce8b4",
   "metadata": {},
   "source": [
    "# Indexing - improve query performance"
   ]
  },
  {
   "cell_type": "code",
   "execution_count": 24,
   "id": "0eb2521b",
   "metadata": {},
   "outputs": [],
   "source": [
    "index_results = db.profile.create_index([('age',pymongo.ASCENDING)],unique=False)"
   ]
  },
  {
   "cell_type": "code",
   "execution_count": 23,
   "id": "0404028d",
   "metadata": {},
   "outputs": [],
   "source": [
    "# start = time.time()\n",
    "# agegt30 = collection.find({'age': {'$gt': 30}})\n",
    "# end = time.time()\n",
    "# print(end - start)"
   ]
  },
  {
   "cell_type": "code",
   "execution_count": 25,
   "id": "167ac6a9",
   "metadata": {},
   "outputs": [],
   "source": [
    "income_df = pd.DataFrame(list(collection.find()))"
   ]
  },
  {
   "cell_type": "code",
   "execution_count": 27,
   "id": "c6fa3ecf",
   "metadata": {},
   "outputs": [
    {
     "name": "stdout",
     "output_type": "stream",
     "text": [
      "<class 'pandas.core.frame.DataFrame'>\n",
      "RangeIndex: 32561 entries, 0 to 32560\n",
      "Data columns (total 16 columns):\n",
      " #   Column          Non-Null Count  Dtype \n",
      "---  ------          --------------  ----- \n",
      " 0   _id             32561 non-null  object\n",
      " 1   age             32561 non-null  int64 \n",
      " 2   workclass       32561 non-null  object\n",
      " 3   fnlwgt          32561 non-null  object\n",
      " 4   education       32561 non-null  object\n",
      " 5   education-num   32561 non-null  object\n",
      " 6   marital-status  32561 non-null  object\n",
      " 7   occupation      32561 non-null  object\n",
      " 8   relationship    32561 non-null  object\n",
      " 9   race            32561 non-null  object\n",
      " 10  sex             32561 non-null  object\n",
      " 11  capital-gain    32561 non-null  object\n",
      " 12  capital-loss    32561 non-null  object\n",
      " 13  hours-per-week  32561 non-null  int64 \n",
      " 14  native-country  32561 non-null  object\n",
      " 15  label           32561 non-null  object\n",
      "dtypes: int64(2), object(14)\n",
      "memory usage: 4.0+ MB\n"
     ]
    }
   ],
   "source": [
    "income_df.info()"
   ]
  },
  {
   "cell_type": "code",
   "execution_count": 29,
   "id": "360f770b",
   "metadata": {},
   "outputs": [
    {
     "data": {
      "text/plain": [
       "_id               object\n",
       "age                int64\n",
       "workclass         object\n",
       "fnlwgt            object\n",
       "education         object\n",
       "education-num     object\n",
       "marital-status    object\n",
       "occupation        object\n",
       "relationship      object\n",
       "race              object\n",
       "sex               object\n",
       "capital-gain      object\n",
       "capital-loss      object\n",
       "hours-per-week     int64\n",
       "native-country    object\n",
       "label             object\n",
       "dtype: object"
      ]
     },
     "execution_count": 29,
     "metadata": {},
     "output_type": "execute_result"
    }
   ],
   "source": [
    "income_df.dtypes"
   ]
  },
  {
   "cell_type": "code",
   "execution_count": 31,
   "id": "6872d210",
   "metadata": {},
   "outputs": [
    {
     "data": {
      "text/html": [
       "<div>\n",
       "<style scoped>\n",
       "    .dataframe tbody tr th:only-of-type {\n",
       "        vertical-align: middle;\n",
       "    }\n",
       "\n",
       "    .dataframe tbody tr th {\n",
       "        vertical-align: top;\n",
       "    }\n",
       "\n",
       "    .dataframe thead th {\n",
       "        text-align: right;\n",
       "    }\n",
       "</style>\n",
       "<table border=\"1\" class=\"dataframe\">\n",
       "  <thead>\n",
       "    <tr style=\"text-align: right;\">\n",
       "      <th></th>\n",
       "      <th>_id</th>\n",
       "      <th>age</th>\n",
       "      <th>workclass</th>\n",
       "      <th>fnlwgt</th>\n",
       "      <th>education</th>\n",
       "      <th>education-num</th>\n",
       "      <th>marital-status</th>\n",
       "      <th>occupation</th>\n",
       "      <th>relationship</th>\n",
       "      <th>race</th>\n",
       "      <th>sex</th>\n",
       "      <th>capital-gain</th>\n",
       "      <th>capital-loss</th>\n",
       "      <th>hours-per-week</th>\n",
       "      <th>native-country</th>\n",
       "      <th>label</th>\n",
       "    </tr>\n",
       "  </thead>\n",
       "  <tbody>\n",
       "    <tr>\n",
       "      <th>0</th>\n",
       "      <td>65c29e353f585d18616c5104</td>\n",
       "      <td>39</td>\n",
       "      <td>State-gov</td>\n",
       "      <td>77516</td>\n",
       "      <td>Bachelors</td>\n",
       "      <td>13</td>\n",
       "      <td>Never-married</td>\n",
       "      <td>Adm-clerical</td>\n",
       "      <td>Not-in-family</td>\n",
       "      <td>White</td>\n",
       "      <td>Male</td>\n",
       "      <td>2174</td>\n",
       "      <td>0</td>\n",
       "      <td>40</td>\n",
       "      <td>United-States</td>\n",
       "      <td>&lt;=50K</td>\n",
       "    </tr>\n",
       "    <tr>\n",
       "      <th>1</th>\n",
       "      <td>65c29e353f585d18616c5105</td>\n",
       "      <td>50</td>\n",
       "      <td>Self-emp-not-inc</td>\n",
       "      <td>83311</td>\n",
       "      <td>Bachelors</td>\n",
       "      <td>13</td>\n",
       "      <td>Married-civ-spouse</td>\n",
       "      <td>Exec-managerial</td>\n",
       "      <td>Husband</td>\n",
       "      <td>White</td>\n",
       "      <td>Male</td>\n",
       "      <td>0</td>\n",
       "      <td>0</td>\n",
       "      <td>13</td>\n",
       "      <td>United-States</td>\n",
       "      <td>&lt;=50K</td>\n",
       "    </tr>\n",
       "    <tr>\n",
       "      <th>2</th>\n",
       "      <td>65c29e353f585d18616c5106</td>\n",
       "      <td>38</td>\n",
       "      <td>Private</td>\n",
       "      <td>215646</td>\n",
       "      <td>HS-grad</td>\n",
       "      <td>9</td>\n",
       "      <td>Divorced</td>\n",
       "      <td>Handlers-cleaners</td>\n",
       "      <td>Not-in-family</td>\n",
       "      <td>White</td>\n",
       "      <td>Male</td>\n",
       "      <td>0</td>\n",
       "      <td>0</td>\n",
       "      <td>40</td>\n",
       "      <td>United-States</td>\n",
       "      <td>&lt;=50K</td>\n",
       "    </tr>\n",
       "    <tr>\n",
       "      <th>3</th>\n",
       "      <td>65c29e353f585d18616c5107</td>\n",
       "      <td>53</td>\n",
       "      <td>Private</td>\n",
       "      <td>234721</td>\n",
       "      <td>11th</td>\n",
       "      <td>7</td>\n",
       "      <td>Married-civ-spouse</td>\n",
       "      <td>Handlers-cleaners</td>\n",
       "      <td>Husband</td>\n",
       "      <td>Black</td>\n",
       "      <td>Male</td>\n",
       "      <td>0</td>\n",
       "      <td>0</td>\n",
       "      <td>40</td>\n",
       "      <td>United-States</td>\n",
       "      <td>&lt;=50K</td>\n",
       "    </tr>\n",
       "    <tr>\n",
       "      <th>4</th>\n",
       "      <td>65c29e353f585d18616c5108</td>\n",
       "      <td>28</td>\n",
       "      <td>Private</td>\n",
       "      <td>338409</td>\n",
       "      <td>Bachelors</td>\n",
       "      <td>13</td>\n",
       "      <td>Married-civ-spouse</td>\n",
       "      <td>Prof-specialty</td>\n",
       "      <td>Wife</td>\n",
       "      <td>Black</td>\n",
       "      <td>Female</td>\n",
       "      <td>0</td>\n",
       "      <td>0</td>\n",
       "      <td>40</td>\n",
       "      <td>Cuba</td>\n",
       "      <td>&lt;=50K</td>\n",
       "    </tr>\n",
       "  </tbody>\n",
       "</table>\n",
       "</div>"
      ],
      "text/plain": [
       "                        _id  age          workclass   fnlwgt   education  \\\n",
       "0  65c29e353f585d18616c5104   39          State-gov    77516   Bachelors   \n",
       "1  65c29e353f585d18616c5105   50   Self-emp-not-inc    83311   Bachelors   \n",
       "2  65c29e353f585d18616c5106   38            Private   215646     HS-grad   \n",
       "3  65c29e353f585d18616c5107   53            Private   234721        11th   \n",
       "4  65c29e353f585d18616c5108   28            Private   338409   Bachelors   \n",
       "\n",
       "  education-num       marital-status          occupation    relationship  \\\n",
       "0            13        Never-married        Adm-clerical   Not-in-family   \n",
       "1            13   Married-civ-spouse     Exec-managerial         Husband   \n",
       "2             9             Divorced   Handlers-cleaners   Not-in-family   \n",
       "3             7   Married-civ-spouse   Handlers-cleaners         Husband   \n",
       "4            13   Married-civ-spouse      Prof-specialty            Wife   \n",
       "\n",
       "     race      sex capital-gain capital-loss  hours-per-week  native-country  \\\n",
       "0   White     Male         2174            0              40   United-States   \n",
       "1   White     Male            0            0              13   United-States   \n",
       "2   White     Male            0            0              40   United-States   \n",
       "3   Black     Male            0            0              40   United-States   \n",
       "4   Black   Female            0            0              40            Cuba   \n",
       "\n",
       "    label  \n",
       "0   <=50K  \n",
       "1   <=50K  \n",
       "2   <=50K  \n",
       "3   <=50K  \n",
       "4   <=50K  "
      ]
     },
     "execution_count": 31,
     "metadata": {},
     "output_type": "execute_result"
    }
   ],
   "source": [
    "income_df.head()"
   ]
  },
  {
   "cell_type": "code",
   "execution_count": 30,
   "id": "56ba36c6",
   "metadata": {},
   "outputs": [
    {
     "data": {
      "text/plain": [
       "count    32561.000000\n",
       "mean        38.581647\n",
       "std         13.640433\n",
       "min         17.000000\n",
       "25%         28.000000\n",
       "50%         37.000000\n",
       "75%         48.000000\n",
       "max         90.000000\n",
       "Name: age, dtype: float64"
      ]
     },
     "execution_count": 30,
     "metadata": {},
     "output_type": "execute_result"
    }
   ],
   "source": [
    "income_df['age'].describe()"
   ]
  },
  {
   "cell_type": "code",
   "execution_count": 33,
   "id": "affd681a",
   "metadata": {},
   "outputs": [
    {
     "data": {
      "text/plain": [
       " HS-grad         10501\n",
       " Some-college     7291\n",
       " Bachelors        5355\n",
       " Masters          1723\n",
       " Assoc-voc        1382\n",
       " 11th             1175\n",
       " Assoc-acdm       1067\n",
       " 10th              933\n",
       " 7th-8th           646\n",
       " Prof-school       576\n",
       " 9th               514\n",
       " 12th              433\n",
       " Doctorate         413\n",
       " 5th-6th           333\n",
       " 1st-4th           168\n",
       " Preschool          51\n",
       "Name: education, dtype: int64"
      ]
     },
     "execution_count": 33,
     "metadata": {},
     "output_type": "execute_result"
    }
   ],
   "source": [
    "income_df['education'].value_counts()"
   ]
  },
  {
   "cell_type": "code",
   "execution_count": null,
   "id": "f1cce240",
   "metadata": {},
   "outputs": [],
   "source": []
  }
 ],
 "metadata": {
  "kernelspec": {
   "display_name": "Python [conda env:root] *",
   "language": "python",
   "name": "conda-root-py"
  },
  "language_info": {
   "codemirror_mode": {
    "name": "ipython",
    "version": 3
   },
   "file_extension": ".py",
   "mimetype": "text/x-python",
   "name": "python",
   "nbconvert_exporter": "python",
   "pygments_lexer": "ipython3",
   "version": "3.9.7"
  }
 },
 "nbformat": 4,
 "nbformat_minor": 5
}
