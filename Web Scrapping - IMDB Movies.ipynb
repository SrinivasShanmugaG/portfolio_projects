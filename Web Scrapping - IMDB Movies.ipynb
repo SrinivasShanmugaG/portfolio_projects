{
 "cells": [
  {
   "cell_type": "code",
   "execution_count": 1,
   "id": "cfd1cc34",
   "metadata": {},
   "outputs": [],
   "source": [
    "from bs4 import BeautifulSoup\n",
    "import requests, openpyxl"
   ]
  },
  {
   "cell_type": "code",
   "execution_count": 22,
   "id": "6e1b71db",
   "metadata": {},
   "outputs": [],
   "source": [
    "wrt_excel = openpyxl.Workbook()\n",
    "sheet_excel = wrt_excel.active\n",
    "sheet_excel.title = 'IMDB-Top Rated Movies'\n",
    "sheet_excel.append(['Movie Name','IMDB Ranking','Year of Release','Ratings'])\n",
    "\n",
    "try:\n",
    "    web_source = requests.get('https://www.imdb.com/chart/top/')\n",
    "    web_source.raise_for_status()\n",
    "    \n",
    "    web_content = BeautifulSoup(web_source.text,'html.parser')\n",
    "    movies = web_content.find('tbody',class_='lister-list').find_all('tr')\n",
    "    \n",
    "    for movie in movies:\n",
    "        movie_name = movie.find('td',class_='titleColumn').a.text\n",
    "        imdb_rank = movie.find('td',class_='titleColumn').get_text(strip = True).split('.')[0]\n",
    "        release_yr = movie.find('td',class_='titleColumn').span.text.strip('()')\n",
    "        imdb_rating = movie.find('td',class_='ratingColumn imdbRating').strong.text\n",
    "        sheet_excel.append([movie_name,imdb_rank,release_yr,imdb_rating])\n",
    "        \n",
    "    #print(len(movies))\n",
    "    \n",
    "except Exception as e:\n",
    "    print(e)\n",
    "    \n",
    "wrt_excel.save('IMDB_Top_Movies.xlsx')\n",
    "    \n"
   ]
  },
  {
   "cell_type": "code",
   "execution_count": null,
   "id": "bf4253ff",
   "metadata": {},
   "outputs": [],
   "source": []
  }
 ],
 "metadata": {
  "kernelspec": {
   "display_name": "Python 3 (ipykernel)",
   "language": "python",
   "name": "python3"
  },
  "language_info": {
   "codemirror_mode": {
    "name": "ipython",
    "version": 3
   },
   "file_extension": ".py",
   "mimetype": "text/x-python",
   "name": "python",
   "nbconvert_exporter": "python",
   "pygments_lexer": "ipython3",
   "version": "3.7.13"
  }
 },
 "nbformat": 4,
 "nbformat_minor": 5
}
